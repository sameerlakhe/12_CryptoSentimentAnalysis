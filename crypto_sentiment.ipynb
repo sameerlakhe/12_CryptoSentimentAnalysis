{
 "cells": [
  {
   "cell_type": "markdown",
   "metadata": {},
   "source": [
    "# Unit 12 - Tales from the Crypto\n",
    "\n",
    "---\n"
   ]
  },
  {
   "cell_type": "markdown",
   "metadata": {},
   "source": [
    "## 1. Sentiment Analysis\n",
    "\n",
    "Use the [newsapi](https://newsapi.org/) to pull the latest news articles for Bitcoin and Ethereum and create a DataFrame of sentiment scores for each coin.\n",
    "\n",
    "Use descriptive statistics to answer the following questions:\n",
    "1. Which coin had the highest mean positive score?\n",
    "2. Which coin had the highest negative score?\n",
    "3. Which coin had the highest positive score?"
   ]
  },
  {
   "cell_type": "code",
   "execution_count": 178,
   "metadata": {},
   "outputs": [
    {
     "name": "stderr",
     "output_type": "stream",
     "text": [
      "[nltk_data] Downloading package vader_lexicon to\n",
      "[nltk_data]     /Users/sameerlakhe/nltk_data...\n",
      "[nltk_data]   Package vader_lexicon is already up-to-date!\n"
     ]
    }
   ],
   "source": [
    "# Initial imports\n",
    "import os\n",
    "import pandas as pd\n",
    "from dotenv import load_dotenv\n",
    "import nltk as nltk\n",
    "from nltk.sentiment.vader import SentimentIntensityAnalyzer\n",
    "from nltk.tokenize import word_tokenize, sent_tokenize\n",
    "from nltk.corpus import stopwords\n",
    "from nltk.stem import WordNetLemmatizer, PorterStemmer\n",
    "from string import punctuation\n",
    "import re\n",
    "from collections import Counter\n",
    "from nltk import ngrams\n",
    "from wordcloud import WordCloud\n",
    "import matplotlib.pyplot as plt\n",
    "import matplotlib as mpl\n",
    "import spacy\n",
    "from spacy import displacy\n",
    "from newsapi import NewsApiClient\n",
    "from path import Path\n",
    "import csv\n",
    "nltk.download('vader_lexicon')\n",
    "plt.style.use('seaborn-whitegrid')\n",
    "mpl.rcParams['figure.figsize'] = [20.0, 10.0]\n",
    "%matplotlib inline\n",
    "\n"
   ]
  },
  {
   "cell_type": "code",
   "execution_count": 179,
   "metadata": {},
   "outputs": [],
   "source": [
    "# Read your api key environment variable\n",
    "load_dotenv()\n",
    "api_key = os.getenv(\"NEWS_API_KEY\")"
   ]
  },
  {
   "cell_type": "code",
   "execution_count": 180,
   "metadata": {},
   "outputs": [],
   "source": [
    "# Create a newsapi client\n",
    "newsapi = NewsApiClient(api_key=api_key)\n",
    "\n",
    "# Function to create a dataframe for english news and french news\n",
    "def create_df(news, language):\n",
    "    articles = []\n",
    "    for article in news:\n",
    "        try:\n",
    "            title = article[\"title\"]\n",
    "            description = article[\"description\"]\n",
    "            text = article[\"content\"]\n",
    "            date = article[\"publishedAt\"][:10]\n",
    "\n",
    "            articles.append({\n",
    "                \"title\": title,\n",
    "                \"description\": description,\n",
    "                \"text\": text,\n",
    "                \"date\": date,\n",
    "                \"language\": language\n",
    "            })\n",
    "        except AttributeError:\n",
    "            pass\n",
    "\n",
    "    return pd.DataFrame(articles)\n",
    "\n",
    "#this function writes the event data to a csv file to avoid calling the API multiple times\n",
    "# for the same date range\n",
    "#def write_csv(data, file_name):\n",
    "   # with open(file_name, mode='w', encoding='utf-8', newline='\\n') as csv_file:\n",
    "       # writer = csv.DictWriter(csv_file, fieldnames = data[0].keys())\n",
    "\n",
    "        #writer.writeheader()\n",
    "        #for event in data:\n",
    "            #writer.writerow(event)\n",
    "            \n",
    "def write_csv(df,file_name):\n",
    "    file_path = Path(file_name)\n",
    "    df.to_csv(file_path, index=False, encoding='utf-8-sig')\n",
    "\n",
    "def get_news(query,language,file_name):\n",
    "    complete_file_name = \"./Resources/\"+file_name\n",
    "    path = Path(complete_file_name)\n",
    "    if path.exists():\n",
    "        print(f'The file {complete_file_name} exists')\n",
    "        news_df = pd.read_csv(complete_file_name)\n",
    "    else:\n",
    "        print(f'retreiving data from new API for query: {query}, and language:{language}')\n",
    "        results = newsapi.get_everything(\n",
    "                    q=query,\n",
    "                    language=language\n",
    "                )\n",
    "        print(f'total results for query \"{query}\" in langyage:{language} are : {results[\"totalResults\"]}')\n",
    "        #convert the news articles to dataframe\n",
    "        news_df = create_df(results[\"articles\"], language)\n",
    "        write_csv(news_df,complete_file_name)\n",
    "    return news_df\n",
    "    "
   ]
  },
  {
   "cell_type": "code",
   "execution_count": 181,
   "metadata": {},
   "outputs": [
    {
     "name": "stdout",
     "output_type": "stream",
     "text": [
      "The file ./Resources/Bitcoin2022_en.csv exists\n",
      "The file ./Resources/Bitcoin2022_fr.csv exists\n"
     ]
    },
    {
     "data": {
      "text/html": [
       "<div>\n",
       "<style scoped>\n",
       "    .dataframe tbody tr th:only-of-type {\n",
       "        vertical-align: middle;\n",
       "    }\n",
       "\n",
       "    .dataframe tbody tr th {\n",
       "        vertical-align: top;\n",
       "    }\n",
       "\n",
       "    .dataframe thead th {\n",
       "        text-align: right;\n",
       "    }\n",
       "</style>\n",
       "<table border=\"1\" class=\"dataframe\">\n",
       "  <thead>\n",
       "    <tr style=\"text-align: right;\">\n",
       "      <th></th>\n",
       "      <th>title</th>\n",
       "      <th>description</th>\n",
       "      <th>text</th>\n",
       "      <th>date</th>\n",
       "      <th>language</th>\n",
       "    </tr>\n",
       "  </thead>\n",
       "  <tbody>\n",
       "    <tr>\n",
       "      <th>0</th>\n",
       "      <td>The Problem with Bitcoin Miners</td>\n",
       "      <td>Comments</td>\n",
       "      <td>Disclosure: I hold short positions in companie...</td>\n",
       "      <td>2022-05-15</td>\n",
       "      <td>fr</td>\n",
       "    </tr>\n",
       "    <tr>\n",
       "      <th>1</th>\n",
       "      <td>L’âge d’or du cinéma n’est plus, place à l’âge...</td>\n",
       "      <td>L’une des plus grandes chaînes de salles de ci...</td>\n",
       "      <td>AMC peut remercier les boursicoteurs, qui lui ...</td>\n",
       "      <td>2022-04-19</td>\n",
       "      <td>fr</td>\n",
       "    </tr>\n",
       "    <tr>\n",
       "      <th>2</th>\n",
       "      <td>Dans le plus grand secret, Snowden a créé une ...</td>\n",
       "      <td>Réfugié en Russie depuis qu'il a reconnu être ...</td>\n",
       "      <td>Edward Snowden, ancien employé de la CIA, sort...</td>\n",
       "      <td>2022-04-28</td>\n",
       "      <td>fr</td>\n",
       "    </tr>\n",
       "    <tr>\n",
       "      <th>3</th>\n",
       "      <td>Ne vous tatouez pas votre crypto préférée, vou...</td>\n",
       "      <td>Ce milliardaire américain a eu la mauvaise idé...</td>\n",
       "      <td>Mike Novogratz est l’une des figures emblémati...</td>\n",
       "      <td>2022-05-15</td>\n",
       "      <td>fr</td>\n",
       "    </tr>\n",
       "    <tr>\n",
       "      <th>4</th>\n",
       "      <td>Le bitcoin perd ses gains de 2022 et passe sou...</td>\n",
       "      <td>Londres - Le bitcoin, la principale cryptomonn...</td>\n",
       "      <td>A 29.764 dollars, son plus bas mardi, le bitco...</td>\n",
       "      <td>2022-05-10</td>\n",
       "      <td>fr</td>\n",
       "    </tr>\n",
       "  </tbody>\n",
       "</table>\n",
       "</div>"
      ],
      "text/plain": [
       "                                               title  \\\n",
       "0                    The Problem with Bitcoin Miners   \n",
       "1  L’âge d’or du cinéma n’est plus, place à l’âge...   \n",
       "2  Dans le plus grand secret, Snowden a créé une ...   \n",
       "3  Ne vous tatouez pas votre crypto préférée, vou...   \n",
       "4  Le bitcoin perd ses gains de 2022 et passe sou...   \n",
       "\n",
       "                                         description  \\\n",
       "0                                           Comments   \n",
       "1  L’une des plus grandes chaînes de salles de ci...   \n",
       "2  Réfugié en Russie depuis qu'il a reconnu être ...   \n",
       "3  Ce milliardaire américain a eu la mauvaise idé...   \n",
       "4  Londres - Le bitcoin, la principale cryptomonn...   \n",
       "\n",
       "                                                text        date language  \n",
       "0  Disclosure: I hold short positions in companie...  2022-05-15       fr  \n",
       "1  AMC peut remercier les boursicoteurs, qui lui ...  2022-04-19       fr  \n",
       "2  Edward Snowden, ancien employé de la CIA, sort...  2022-04-28       fr  \n",
       "3  Mike Novogratz est l’une des figures emblémati...  2022-05-15       fr  \n",
       "4  A 29.764 dollars, son plus bas mardi, le bitco...  2022-05-10       fr  "
      ]
     },
     "execution_count": 181,
     "metadata": {},
     "output_type": "execute_result"
    }
   ],
   "source": [
    "bitcoin_news_en_df = get_news(\"bitcoin and 2022\",\"en\",\"Bitcoin2022_en.csv\")\n",
    "bitcoin_news_en_df.head()\n",
    "\n",
    "bitcoin_news_fr_df = get_news(\"bitcoin and 2022\",\"fr\",\"Bitcoin2022_fr.csv\")\n",
    "bitcoin_news_fr_df.head()"
   ]
  },
  {
   "cell_type": "code",
   "execution_count": 182,
   "metadata": {},
   "outputs": [
    {
     "data": {
      "text/html": [
       "<div>\n",
       "<style scoped>\n",
       "    .dataframe tbody tr th:only-of-type {\n",
       "        vertical-align: middle;\n",
       "    }\n",
       "\n",
       "    .dataframe tbody tr th {\n",
       "        vertical-align: top;\n",
       "    }\n",
       "\n",
       "    .dataframe thead th {\n",
       "        text-align: right;\n",
       "    }\n",
       "</style>\n",
       "<table border=\"1\" class=\"dataframe\">\n",
       "  <thead>\n",
       "    <tr style=\"text-align: right;\">\n",
       "      <th></th>\n",
       "      <th>title</th>\n",
       "      <th>description</th>\n",
       "      <th>text</th>\n",
       "      <th>date</th>\n",
       "      <th>language</th>\n",
       "    </tr>\n",
       "  </thead>\n",
       "  <tbody>\n",
       "    <tr>\n",
       "      <th>0</th>\n",
       "      <td>Why fossil fuel companies see green in Bitcoin...</td>\n",
       "      <td>ExxonMobil and other fossil fuel companies hav...</td>\n",
       "      <td>A Bitcoin mining site powered by otherwise los...</td>\n",
       "      <td>2022-05-04</td>\n",
       "      <td>en</td>\n",
       "    </tr>\n",
       "    <tr>\n",
       "      <th>1</th>\n",
       "      <td>What is Blockchain: Everything You Need to Kno...</td>\n",
       "      <td>&lt;table&gt;&lt;tr&gt;&lt;td&gt;&lt;/td&gt;&lt;/tr&gt;&lt;tr&gt;&lt;td&gt;&lt;/td&gt;&lt;/tr&gt;\\r\\...</td>\n",
       "      <td>If you want to pay online, you need to registe...</td>\n",
       "      <td>2022-04-18</td>\n",
       "      <td>en</td>\n",
       "    </tr>\n",
       "    <tr>\n",
       "      <th>2</th>\n",
       "      <td>Bitcoin value drops by 50% since November peak</td>\n",
       "      <td>The slide in the value of cryptocurrencies com...</td>\n",
       "      <td>Image source, Getty Images\\r\\nThe value of Bit...</td>\n",
       "      <td>2022-05-09</td>\n",
       "      <td>en</td>\n",
       "    </tr>\n",
       "    <tr>\n",
       "      <th>3</th>\n",
       "      <td>Factbox: U.S. companies and their cryptocurren...</td>\n",
       "      <td>A meltdown in one of the world's largest stabl...</td>\n",
       "      <td>May 12 (Reuters) - A meltdown in one of the wo...</td>\n",
       "      <td>2022-05-12</td>\n",
       "      <td>en</td>\n",
       "    </tr>\n",
       "    <tr>\n",
       "      <th>4</th>\n",
       "      <td>The Top 12 Blockchain Speakers for 2022</td>\n",
       "      <td>What’s happening in the blockchain industry th...</td>\n",
       "      <td>Whats happening in the blockchain industry thi...</td>\n",
       "      <td>2022-04-26</td>\n",
       "      <td>en</td>\n",
       "    </tr>\n",
       "  </tbody>\n",
       "</table>\n",
       "</div>"
      ],
      "text/plain": [
       "                                               title  \\\n",
       "0  Why fossil fuel companies see green in Bitcoin...   \n",
       "1  What is Blockchain: Everything You Need to Kno...   \n",
       "2     Bitcoin value drops by 50% since November peak   \n",
       "3  Factbox: U.S. companies and their cryptocurren...   \n",
       "4            The Top 12 Blockchain Speakers for 2022   \n",
       "\n",
       "                                         description  \\\n",
       "0  ExxonMobil and other fossil fuel companies hav...   \n",
       "1  <table><tr><td></td></tr><tr><td></td></tr>\\r\\...   \n",
       "2  The slide in the value of cryptocurrencies com...   \n",
       "3  A meltdown in one of the world's largest stabl...   \n",
       "4  What’s happening in the blockchain industry th...   \n",
       "\n",
       "                                                text        date language  \n",
       "0  A Bitcoin mining site powered by otherwise los...  2022-05-04       en  \n",
       "1  If you want to pay online, you need to registe...  2022-04-18       en  \n",
       "2  Image source, Getty Images\\r\\nThe value of Bit...  2022-05-09       en  \n",
       "3  May 12 (Reuters) - A meltdown in one of the wo...  2022-05-12       en  \n",
       "4  Whats happening in the blockchain industry thi...  2022-04-26       en  "
      ]
     },
     "execution_count": 182,
     "metadata": {},
     "output_type": "execute_result"
    }
   ],
   "source": [
    "# Create the Bitcoin sentiment scores DataFrame\n",
    "# Create a DataFrame with the news in English\n",
    "#bitcoin_news_en_df = create_df(bitcoin_news_en[\"articles\"], \"en\")\n",
    "# Create a DataFrame with the news in French\n",
    "#bitcoin_news_fr_df = create_df(bitcoin_news_fr[\"articles\"], \"fr\")\n",
    "#concat to get dataframe with news in english and french\n",
    "bitcoin_news_all_df =pd.concat([bitcoin_news_en_df, bitcoin_news_fr_df])  \n",
    "bitcoin_news_all_df.reset_index()\n",
    "bitcoin_news_all_df.head()\n",
    "# Save to CSV, read the CSV to get the data as there is limit for calling news API multiple times in day\n",
    "#file_path = Path(\"./Resources/bitcoin_news_en_fr.csv\")\n",
    "#bitcoin_news_all_df.to_csv(file_path, index=False, encoding='utf-8-sig')"
   ]
  },
  {
   "cell_type": "code",
   "execution_count": 183,
   "metadata": {},
   "outputs": [
    {
     "name": "stdout",
     "output_type": "stream",
     "text": [
      "The file ./Resources/Ethereum2022_en.csv exists\n",
      "The file ./Resources/Ethereum2022_fr.csv exists\n"
     ]
    },
    {
     "data": {
      "text/html": [
       "<div>\n",
       "<style scoped>\n",
       "    .dataframe tbody tr th:only-of-type {\n",
       "        vertical-align: middle;\n",
       "    }\n",
       "\n",
       "    .dataframe tbody tr th {\n",
       "        vertical-align: top;\n",
       "    }\n",
       "\n",
       "    .dataframe thead th {\n",
       "        text-align: right;\n",
       "    }\n",
       "</style>\n",
       "<table border=\"1\" class=\"dataframe\">\n",
       "  <thead>\n",
       "    <tr style=\"text-align: right;\">\n",
       "      <th></th>\n",
       "      <th>title</th>\n",
       "      <th>description</th>\n",
       "      <th>text</th>\n",
       "      <th>date</th>\n",
       "      <th>language</th>\n",
       "    </tr>\n",
       "  </thead>\n",
       "  <tbody>\n",
       "    <tr>\n",
       "      <th>0</th>\n",
       "      <td>Why fossil fuel companies see green in Bitcoin...</td>\n",
       "      <td>ExxonMobil and other fossil fuel companies hav...</td>\n",
       "      <td>A Bitcoin mining site powered by otherwise los...</td>\n",
       "      <td>2022-05-04</td>\n",
       "      <td>en</td>\n",
       "    </tr>\n",
       "    <tr>\n",
       "      <th>1</th>\n",
       "      <td>What is Blockchain: Everything You Need to Kno...</td>\n",
       "      <td>&lt;table&gt;&lt;tr&gt;&lt;td&gt;&lt;/td&gt;&lt;/tr&gt;&lt;tr&gt;&lt;td&gt;&lt;/td&gt;&lt;/tr&gt;\\r\\...</td>\n",
       "      <td>If you want to pay online, you need to registe...</td>\n",
       "      <td>2022-04-18</td>\n",
       "      <td>en</td>\n",
       "    </tr>\n",
       "    <tr>\n",
       "      <th>2</th>\n",
       "      <td>Bitcoin value drops by 50% since November peak</td>\n",
       "      <td>The slide in the value of cryptocurrencies com...</td>\n",
       "      <td>Image source, Getty Images\\r\\nThe value of Bit...</td>\n",
       "      <td>2022-05-09</td>\n",
       "      <td>en</td>\n",
       "    </tr>\n",
       "    <tr>\n",
       "      <th>3</th>\n",
       "      <td>Factbox: U.S. companies and their cryptocurren...</td>\n",
       "      <td>A meltdown in one of the world's largest stabl...</td>\n",
       "      <td>May 12 (Reuters) - A meltdown in one of the wo...</td>\n",
       "      <td>2022-05-12</td>\n",
       "      <td>en</td>\n",
       "    </tr>\n",
       "    <tr>\n",
       "      <th>4</th>\n",
       "      <td>The Top 12 Blockchain Speakers for 2022</td>\n",
       "      <td>What’s happening in the blockchain industry th...</td>\n",
       "      <td>Whats happening in the blockchain industry thi...</td>\n",
       "      <td>2022-04-26</td>\n",
       "      <td>en</td>\n",
       "    </tr>\n",
       "  </tbody>\n",
       "</table>\n",
       "</div>"
      ],
      "text/plain": [
       "                                               title  \\\n",
       "0  Why fossil fuel companies see green in Bitcoin...   \n",
       "1  What is Blockchain: Everything You Need to Kno...   \n",
       "2     Bitcoin value drops by 50% since November peak   \n",
       "3  Factbox: U.S. companies and their cryptocurren...   \n",
       "4            The Top 12 Blockchain Speakers for 2022   \n",
       "\n",
       "                                         description  \\\n",
       "0  ExxonMobil and other fossil fuel companies hav...   \n",
       "1  <table><tr><td></td></tr><tr><td></td></tr>\\r\\...   \n",
       "2  The slide in the value of cryptocurrencies com...   \n",
       "3  A meltdown in one of the world's largest stabl...   \n",
       "4  What’s happening in the blockchain industry th...   \n",
       "\n",
       "                                                text        date language  \n",
       "0  A Bitcoin mining site powered by otherwise los...  2022-05-04       en  \n",
       "1  If you want to pay online, you need to registe...  2022-04-18       en  \n",
       "2  Image source, Getty Images\\r\\nThe value of Bit...  2022-05-09       en  \n",
       "3  May 12 (Reuters) - A meltdown in one of the wo...  2022-05-12       en  \n",
       "4  Whats happening in the blockchain industry thi...  2022-04-26       en  "
      ]
     },
     "execution_count": 183,
     "metadata": {},
     "output_type": "execute_result"
    }
   ],
   "source": [
    "# Fetch the Ethereum news articles\n",
    "ethereum_news_en_df = get_news(\"ethereum and 2022\",\"en\",\"Ethereum2022_en.csv\")\n",
    "# Show the total number of news\n",
    "#ethereum_news_en_df.head()\n",
    "\n",
    "ethereum_news_fr_df = get_news(\"ethereum and 2022\",\"fr\",\"Ethereum2022_fr.csv\")\n",
    "# Show the total number of news\n",
    "#ethereum_news_fr_df.head()\n",
    "ethereum_news_all_df =pd.concat([bitcoin_news_en_df, bitcoin_news_fr_df])  \n",
    "ethereum_news_all_df.reset_index()\n",
    "ethereum_news_all_df.head()"
   ]
  },
  {
   "cell_type": "code",
   "execution_count": 184,
   "metadata": {},
   "outputs": [
    {
     "name": "stdout",
     "output_type": "stream",
     "text": [
      "   title_compound  title_pos  title_neu  title_neg  title_sent\n",
      "0          0.0000      0.000      1.000        0.0           0\n",
      "1          0.0000      0.000      1.000        0.0           0\n",
      "2          0.3400      0.255      0.745        0.0           1\n",
      "3          0.0000      0.000      1.000        0.0           0\n",
      "4          0.2023      0.231      0.769        0.0           1\n",
      "   text_compound  text_pos  text_neu  text_neg  text_sent\n",
      "0        -0.0516     0.056     0.882     0.061         -1\n",
      "1         0.5719     0.157     0.775     0.068          1\n",
      "2         0.3400     0.072     0.928     0.000          1\n",
      "3         0.3400     0.074     0.926     0.000          1\n",
      "4         0.0000     0.000     1.000     0.000          0\n"
     ]
    }
   ],
   "source": [
    "# Sentiment calculation based on compound score\n",
    "def get_sentiment(score):\n",
    "    \"\"\"\n",
    "    Calculates the sentiment based on the compound score.\n",
    "    \"\"\"\n",
    "    result = 0  # Neutral by default\n",
    "    if score >= 0.05:  # Positive\n",
    "        result = 1\n",
    "    elif score <= -0.05:  # Negative\n",
    "        result = -1\n",
    "\n",
    "    return result\n",
    "\n",
    "# Sentiment scores dictionaries\n",
    "title_sent = {\n",
    "        \"title_compound\": [],\n",
    "        \"title_pos\": [],\n",
    "        \"title_neu\": [],\n",
    "        \"title_neg\": [],\n",
    "        \"title_sent\": [],\n",
    "    }\n",
    "text_sent = {\n",
    "        \"text_compound\": [],\n",
    "        \"text_pos\": [],\n",
    "        \"text_neu\": [],\n",
    "        \"text_neg\": [],\n",
    "        \"text_sent\": [],\n",
    "        }\n",
    "\n",
    "analyzer = SentimentIntensityAnalyzer()\n",
    "# Get sentiment for the text and the title\n",
    "def get_sentiment_score(news_df):\n",
    "    \n",
    "    for index, row in news_df.iterrows():\n",
    "        try:\n",
    "            # Sentiment scoring with VADER\n",
    "            title_sentiment = analyzer.polarity_scores(row[\"title\"])\n",
    "            title_sent[\"title_compound\"].append(title_sentiment[\"compound\"])\n",
    "            title_sent[\"title_pos\"].append(title_sentiment[\"pos\"])\n",
    "            title_sent[\"title_neu\"].append(title_sentiment[\"neu\"])\n",
    "            title_sent[\"title_neg\"].append(title_sentiment[\"neg\"])\n",
    "            title_sent[\"title_sent\"].append(get_sentiment(title_sentiment[\"compound\"]))\n",
    "\n",
    "            text_sentiment = analyzer.polarity_scores(row[\"text\"])\n",
    "            text_sent[\"text_compound\"].append(text_sentiment[\"compound\"])\n",
    "            text_sent[\"text_pos\"].append(text_sentiment[\"pos\"])\n",
    "            text_sent[\"text_neu\"].append(text_sentiment[\"neu\"])\n",
    "            text_sent[\"text_neg\"].append(text_sentiment[\"neg\"])\n",
    "            text_sent[\"text_sent\"].append(get_sentiment(text_sentiment[\"compound\"]))\n",
    "        except AttributeError:\n",
    "            pass\n",
    "        \n",
    "    return title_sent,text_sent\n",
    "\n",
    "title_sent,text_sent = get_sentiment_score(bitcoin_news_all_df)\n",
    "    \n",
    "# Attaching sentiment columns to the News DataFrame\n",
    "\n",
    "bitcoin_title_sentiment_df = pd.DataFrame(title_sent)\n",
    "bitcoin_text_sentiment_df = pd.DataFrame(text_sent)\n",
    "\n",
    "#bitcoin_title_sentiment_df\n",
    "#bitcoin_text_sentiment_df\n",
    "print(bitcoin_title_sentiment_df.head())\n",
    "print(bitcoin_text_sentiment_df.head())\n",
    "#print(title_sent)\n",
    "#bitcoin_news_all_df = bitcoin_news_all_df.join(bitcoin_title_sentiment_df).join(bitcoin_text_sentiment_df)\n",
    "\n",
    "#bitcoin_news_all_df.head()\n",
    "bitcoin_news_all_df = bitcoin_news_all_df.join(bitcoin_title_sentiment_df).join(bitcoin_text_sentiment_df)"
   ]
  },
  {
   "cell_type": "code",
   "execution_count": 185,
   "metadata": {},
   "outputs": [
    {
     "name": "stdout",
     "output_type": "stream",
     "text": [
      "   title_compound  title_pos  title_neu  title_neg  title_sent\n",
      "0          0.0000      0.000      1.000        0.0           0\n",
      "1          0.0000      0.000      1.000        0.0           0\n",
      "2          0.3400      0.255      0.745        0.0           1\n",
      "3          0.0000      0.000      1.000        0.0           0\n",
      "4          0.2023      0.231      0.769        0.0           1\n",
      "   text_compound  text_pos  text_neu  text_neg  text_sent\n",
      "0        -0.0516     0.056     0.882     0.061         -1\n",
      "1         0.5719     0.157     0.775     0.068          1\n",
      "2         0.3400     0.072     0.928     0.000          1\n",
      "3         0.3400     0.074     0.926     0.000          1\n",
      "4         0.0000     0.000     1.000     0.000          0\n"
     ]
    }
   ],
   "source": [
    "# Create the Ethereum sentiment scores DataFrame\n",
    "title_sent,text_sent = get_sentiment_score(ethereum_news_all_df)\n",
    "    \n",
    "# Attaching sentiment columns to the News DataFrame\n",
    "ethereum_title_sentiment_df = pd.DataFrame(title_sent)\n",
    "ethereum_text_sentiment_df = pd.DataFrame(text_sent)\n",
    "\n",
    "print(ethereum_title_sentiment_df.head())\n",
    "print(ethereum_text_sentiment_df.head())\n",
    "\n",
    "ethereum_news_all_df = ethereum_news_all_df.join(ethereum_title_sentiment_df).join(ethereum_text_sentiment_df)\n",
    "\n",
    "\n",
    "def get_scores(df,coin_name):\n",
    "    coin_scores={}\n",
    "    max_coin_title_compound_score = df[\"title_compound\"].max()\n",
    "    coin_scores['max_coin_title_compound_score'] = max_coin_title_compound_score\n",
    "    \n",
    "    max_coin_text_compound_score = df[\"text_compound\"].max()\n",
    "    coin_scores['max_coin_text_compound_score'] = max_coin_text_compound_score\n",
    "    \n",
    "    max_coin_title_positive_score = df[\"title_pos\"].max()\n",
    "    coin_scores['max_coin_title_positive_score'] = max_coin_title_positive_score\n",
    "    \n",
    "    max_coin_text_positive_score = df[\"text_pos\"].max()\n",
    "    coin_scores['max_coin_text_positive_score'] = max_coin_text_positive_score\n",
    "    \n",
    "    mean_coin_title_positive_score = df[\"title_pos\"].mean()\n",
    "    coin_scores['mean_coin_title_positive_score'] = mean_coin_title_positive_score\n",
    "    \n",
    "    mean_coin_text_positive_score = df[\"text_pos\"].mean()\n",
    "    coin_scores['mean_coin_text_positive_score'] = mean_coin_text_positive_score\n",
    "    \n",
    "    return coin_scores\n",
    "\n"
   ]
  },
  {
   "cell_type": "code",
   "execution_count": 186,
   "metadata": {},
   "outputs": [
    {
     "data": {
      "text/plain": [
       "<AxesSubplot:title={'center':'Bitcoin Title and Text Sentiment Comparisson'}>"
      ]
     },
     "execution_count": 186,
     "metadata": {},
     "output_type": "execute_result"
    },
    {
     "data": {
      "image/png": "[encoded data removed]",
      "text/plain": [
       "<Figure size 720x576 with 1 Axes>"
      ]
     },
     "metadata": {
      "needs_background": "light"
     },
     "output_type": "display_data"
    }
   ],
   "source": [
    "# Describe the Bitcoin Sentiment\n",
    "# Plot bar chart\n",
    "bitcoin_news_all_df.plot(\n",
    "    y=[\"title_sent\", \"text_sent\"],\n",
    "    kind=\"bar\",\n",
    "    title=\"Bitcoin Title and Text Sentiment Comparisson\",\n",
    "    figsize=(10, 8),\n",
    "    grid=True,\n",
    ")"
   ]
  },
  {
   "cell_type": "markdown",
   "metadata": {},
   "source": [
    "***The above bitcoin title and text sentiment chart indicates that the bitcoin sentiment changed to bearish recently***"
   ]
  },
  {
   "cell_type": "code",
   "execution_count": 187,
   "metadata": {},
   "outputs": [
    {
     "data": {
      "text/plain": [
       "<AxesSubplot:title={'center':'Ethereum Title and Text Sentiment Comparisson'}>"
      ]
     },
     "execution_count": 187,
     "metadata": {},
     "output_type": "execute_result"
    },
    {
     "data": {
      "image/png": "[encoded data removed]",
      "text/plain": [
       "<Figure size 720x576 with 1 Axes>"
      ]
     },
     "metadata": {
      "needs_background": "light"
     },
     "output_type": "display_data"
    }
   ],
   "source": [
    "# Describe the Ethereum Sentiment\n",
    "# Plot bar chart\n",
    "ethereum_news_all_df.plot(\n",
    "    y=[\"title_sent\", \"text_sent\"],\n",
    "    kind=\"bar\",\n",
    "    title=\"Ethereum Title and Text Sentiment Comparisson\",\n",
    "    figsize=(10, 8),\n",
    "    grid=True,\n",
    ")"
   ]
  },
  {
   "cell_type": "code",
   "execution_count": 188,
   "metadata": {},
   "outputs": [
    {
     "data": {
      "text/html": [
       "<div>\n",
       "<style scoped>\n",
       "    .dataframe tbody tr th:only-of-type {\n",
       "        vertical-align: middle;\n",
       "    }\n",
       "\n",
       "    .dataframe tbody tr th {\n",
       "        vertical-align: top;\n",
       "    }\n",
       "\n",
       "    .dataframe thead th {\n",
       "        text-align: right;\n",
       "    }\n",
       "</style>\n",
       "<table border=\"1\" class=\"dataframe\">\n",
       "  <thead>\n",
       "    <tr style=\"text-align: right;\">\n",
       "      <th></th>\n",
       "      <th>bitcoin</th>\n",
       "      <th>ethereum</th>\n",
       "    </tr>\n",
       "  </thead>\n",
       "  <tbody>\n",
       "    <tr>\n",
       "      <th>max_coin_title_compound_score</th>\n",
       "      <td>0.340000</td>\n",
       "      <td>0.340000</td>\n",
       "    </tr>\n",
       "    <tr>\n",
       "      <th>max_coin_text_compound_score</th>\n",
       "      <td>0.865500</td>\n",
       "      <td>0.865500</td>\n",
       "    </tr>\n",
       "    <tr>\n",
       "      <th>max_coin_title_positive_score</th>\n",
       "      <td>0.255000</td>\n",
       "      <td>0.255000</td>\n",
       "    </tr>\n",
       "    <tr>\n",
       "      <th>max_coin_text_positive_score</th>\n",
       "      <td>0.263000</td>\n",
       "      <td>0.263000</td>\n",
       "    </tr>\n",
       "    <tr>\n",
       "      <th>mean_coin_title_positive_score</th>\n",
       "      <td>0.056243</td>\n",
       "      <td>0.056243</td>\n",
       "    </tr>\n",
       "    <tr>\n",
       "      <th>mean_coin_text_positive_score</th>\n",
       "      <td>0.072784</td>\n",
       "      <td>0.072784</td>\n",
       "    </tr>\n",
       "  </tbody>\n",
       "</table>\n",
       "</div>"
      ],
      "text/plain": [
       "                                 bitcoin  ethereum\n",
       "max_coin_title_compound_score   0.340000  0.340000\n",
       "max_coin_text_compound_score    0.865500  0.865500\n",
       "max_coin_title_positive_score   0.255000  0.255000\n",
       "max_coin_text_positive_score    0.263000  0.263000\n",
       "mean_coin_title_positive_score  0.056243  0.056243\n",
       "mean_coin_text_positive_score   0.072784  0.072784"
      ]
     },
     "execution_count": 188,
     "metadata": {},
     "output_type": "execute_result"
    }
   ],
   "source": [
    "bitcoin_scores = get_scores(bitcoin_news_all_df,'bitcoin')\n",
    "#print(bitcoin_scores)\n",
    "#bitcoin_scores_df = pd.DataFrame.from_dict(bitcoin_scores)\n",
    "#bitcoin_scores_df.head()\n",
    "\n",
    "eth_scores = get_scores(ethereum_news_all_df,'ethereium')\n",
    "#print(eth_scores)\n",
    "\n",
    "coin_scores={}\n",
    "coin_scores['bitcoin']=bitcoin_scores\n",
    "coin_scores['ethereum']=eth_scores\n",
    "\n",
    "coin_scores_df = pd.DataFrame.from_dict(coin_scores)\n",
    "coin_scores_df"
   ]
  },
  {
   "cell_type": "markdown",
   "metadata": {},
   "source": [
    "***The above ethereum title and text sentiment chart indicates that the ethereum sentiment changed to bearish recently***"
   ]
  },
  {
   "cell_type": "markdown",
   "metadata": {},
   "source": [
    "### Questions:\n",
    "\n",
    "Q: Which coin had the highest mean positive score?\n",
    "\n",
    "A: ***As per the mean positive scores for title and text, both bitcoin and ethereium have same mean positive score***\n",
    "\n",
    "Q: Which coin had the highest compound score?\n",
    "\n",
    "A: ***As per the mean positive scores for title and text, both bitcoin and ethereium have same highest compound score***\n",
    "\n",
    "Q. Which coin had the highest positive score?\n",
    "\n",
    "A: ***As per the mean positive scores for title and text, both bitcoin and ethereium have same highest positive score***\n",
    "\n",
    "***In general, as per the latest news from 2022, the sentiment analysis for both coin is same***"
   ]
  },
  {
   "cell_type": "markdown",
   "metadata": {},
   "source": [
    "---"
   ]
  },
  {
   "cell_type": "markdown",
   "metadata": {},
   "source": [
    "## 2. Natural Language Processing\n",
    "---\n",
    "###   Tokenizer\n",
    "\n",
    "In this section, you will use NLTK and Python to tokenize the text for each coin. Be sure to:\n",
    "1. Lowercase each word.\n",
    "2. Remove Punctuation.\n",
    "3. Remove Stopwords."
   ]
  },
  {
   "cell_type": "code",
   "execution_count": null,
   "metadata": {},
   "outputs": [],
   "source": []
  },
  {
   "cell_type": "code",
   "execution_count": 189,
   "metadata": {},
   "outputs": [],
   "source": [
    "# Instantiate the lemmatizer\n",
    "lemmatizer = WordNetLemmatizer()\n",
    "\n",
    "# Create a list of stopwords\n",
    "sw = set(stopwords.words('english'))\n",
    "\n",
    "# Expand the default stopwords list if necessary\n",
    "additional_stopwords={}"
   ]
  },
  {
   "cell_type": "code",
   "execution_count": 193,
   "metadata": {},
   "outputs": [
    {
     "name": "stdout",
     "output_type": "stream",
     "text": [
      "['bitcoin', 'mining', 'site', 'powered', 'otherwise', 'lost', 'gas', 'oil', 'well', 'near', 'linden', 'texas', 'april', 'th', 'photo', 'francois', 'picardafp', 'via', 'getty', 'images', 'corporate', 'climate', 'hype', 'fl', 'char', 'disclosure', 'hold', 'short', 'position', 'company', 'mentioned', 'article', 'financial', 'advicesix', 'month', 'ago', 'wrotebitcoin', 'miner', 'burn', 'enormous', 'amount', 'capital', 'capture', 'char']\n"
     ]
    }
   ],
   "source": [
    "# Complete the tokenizer function\n",
    "def tokenizer(text):\n",
    "    \"\"\"Tokenizes text.\"\"\"\n",
    "    sw = set(stopwords.words('english'))\n",
    "    # Remove the punctuation from text\n",
    "    regex = re.compile(\"[^a-zA-Z ]\")\n",
    "    re_clean = regex.sub('', text)\n",
    "    # Create a tokenized list of the words\n",
    "    words = word_tokenize(re_clean)\n",
    "    # Lemmatize words into root words\n",
    "    lem = [lemmatizer.lemmatize(word) for word in words]\n",
    "    # Convert the words to lowercase\n",
    "    # Remove the stop words\n",
    "    tokens = [word.lower() for word in lem if word.lower() not in sw]\n",
    "    return tokens\n",
    "\n",
    "big_string = ' '.join(bitcoin_news_all_df[\"text\"][0])\n",
    "#print(big_string)\n",
    "\n",
    "tokens = tokenizer(big_string)\n",
    "print(tokens)"
   ]
  },
  {
   "cell_type": "code",
   "execution_count": 199,
   "metadata": {},
   "outputs": [
    {
     "data": {
      "text/html": [
       "<div>\n",
       "<style scoped>\n",
       "    .dataframe tbody tr th:only-of-type {\n",
       "        vertical-align: middle;\n",
       "    }\n",
       "\n",
       "    .dataframe tbody tr th {\n",
       "        vertical-align: top;\n",
       "    }\n",
       "\n",
       "    .dataframe thead th {\n",
       "        text-align: right;\n",
       "    }\n",
       "</style>\n",
       "<table border=\"1\" class=\"dataframe\">\n",
       "  <thead>\n",
       "    <tr style=\"text-align: right;\">\n",
       "      <th></th>\n",
       "      <th>title</th>\n",
       "      <th>description</th>\n",
       "      <th>text</th>\n",
       "      <th>date</th>\n",
       "      <th>language</th>\n",
       "      <th>title_compound</th>\n",
       "      <th>title_pos</th>\n",
       "      <th>title_neu</th>\n",
       "      <th>title_neg</th>\n",
       "      <th>title_sent</th>\n",
       "      <th>text_compound</th>\n",
       "      <th>text_pos</th>\n",
       "      <th>text_neu</th>\n",
       "      <th>text_neg</th>\n",
       "      <th>text_sent</th>\n",
       "      <th>tokens</th>\n",
       "    </tr>\n",
       "  </thead>\n",
       "  <tbody>\n",
       "    <tr>\n",
       "      <th>0</th>\n",
       "      <td>Why fossil fuel companies see green in Bitcoin...</td>\n",
       "      <td>ExxonMobil and other fossil fuel companies hav...</td>\n",
       "      <td>A Bitcoin mining site powered by otherwise los...</td>\n",
       "      <td>2022-05-04</td>\n",
       "      <td>en</td>\n",
       "      <td>0.00</td>\n",
       "      <td>0.000</td>\n",
       "      <td>1.000</td>\n",
       "      <td>0.0</td>\n",
       "      <td>0</td>\n",
       "      <td>-0.0516</td>\n",
       "      <td>0.056</td>\n",
       "      <td>0.882</td>\n",
       "      <td>0.061</td>\n",
       "      <td>-1</td>\n",
       "      <td>[bitcoin, mining, site, powered, otherwise, lo...</td>\n",
       "    </tr>\n",
       "    <tr>\n",
       "      <th>0</th>\n",
       "      <td>The Problem with Bitcoin Miners</td>\n",
       "      <td>Comments</td>\n",
       "      <td>Disclosure: I hold short positions in companie...</td>\n",
       "      <td>2022-05-15</td>\n",
       "      <td>fr</td>\n",
       "      <td>0.00</td>\n",
       "      <td>0.000</td>\n",
       "      <td>1.000</td>\n",
       "      <td>0.0</td>\n",
       "      <td>0</td>\n",
       "      <td>-0.0516</td>\n",
       "      <td>0.056</td>\n",
       "      <td>0.882</td>\n",
       "      <td>0.061</td>\n",
       "      <td>-1</td>\n",
       "      <td>[disclosure, hold, short, position, company, m...</td>\n",
       "    </tr>\n",
       "    <tr>\n",
       "      <th>1</th>\n",
       "      <td>What is Blockchain: Everything You Need to Kno...</td>\n",
       "      <td>&lt;table&gt;&lt;tr&gt;&lt;td&gt;&lt;/td&gt;&lt;/tr&gt;&lt;tr&gt;&lt;td&gt;&lt;/td&gt;&lt;/tr&gt;\\r\\...</td>\n",
       "      <td>If you want to pay online, you need to registe...</td>\n",
       "      <td>2022-04-18</td>\n",
       "      <td>en</td>\n",
       "      <td>0.00</td>\n",
       "      <td>0.000</td>\n",
       "      <td>1.000</td>\n",
       "      <td>0.0</td>\n",
       "      <td>0</td>\n",
       "      <td>0.5719</td>\n",
       "      <td>0.157</td>\n",
       "      <td>0.775</td>\n",
       "      <td>0.068</td>\n",
       "      <td>1</td>\n",
       "      <td>[want, pay, online, need, register, account, p...</td>\n",
       "    </tr>\n",
       "    <tr>\n",
       "      <th>1</th>\n",
       "      <td>L’âge d’or du cinéma n’est plus, place à l’âge...</td>\n",
       "      <td>L’une des plus grandes chaînes de salles de ci...</td>\n",
       "      <td>AMC peut remercier les boursicoteurs, qui lui ...</td>\n",
       "      <td>2022-04-19</td>\n",
       "      <td>fr</td>\n",
       "      <td>0.00</td>\n",
       "      <td>0.000</td>\n",
       "      <td>1.000</td>\n",
       "      <td>0.0</td>\n",
       "      <td>0</td>\n",
       "      <td>0.5719</td>\n",
       "      <td>0.157</td>\n",
       "      <td>0.775</td>\n",
       "      <td>0.068</td>\n",
       "      <td>1</td>\n",
       "      <td>[amc, peut, remercier, le, boursicoteurs, qui,...</td>\n",
       "    </tr>\n",
       "    <tr>\n",
       "      <th>2</th>\n",
       "      <td>Bitcoin value drops by 50% since November peak</td>\n",
       "      <td>The slide in the value of cryptocurrencies com...</td>\n",
       "      <td>Image source, Getty Images\\r\\nThe value of Bit...</td>\n",
       "      <td>2022-05-09</td>\n",
       "      <td>en</td>\n",
       "      <td>0.34</td>\n",
       "      <td>0.255</td>\n",
       "      <td>0.745</td>\n",
       "      <td>0.0</td>\n",
       "      <td>1</td>\n",
       "      <td>0.3400</td>\n",
       "      <td>0.072</td>\n",
       "      <td>0.928</td>\n",
       "      <td>0.000</td>\n",
       "      <td>1</td>\n",
       "      <td>[image, source, getty, imagesthe, value, bitco...</td>\n",
       "    </tr>\n",
       "  </tbody>\n",
       "</table>\n",
       "</div>"
      ],
      "text/plain": [
       "                                               title  \\\n",
       "0  Why fossil fuel companies see green in Bitcoin...   \n",
       "0                    The Problem with Bitcoin Miners   \n",
       "1  What is Blockchain: Everything You Need to Kno...   \n",
       "1  L’âge d’or du cinéma n’est plus, place à l’âge...   \n",
       "2     Bitcoin value drops by 50% since November peak   \n",
       "\n",
       "                                         description  \\\n",
       "0  ExxonMobil and other fossil fuel companies hav...   \n",
       "0                                           Comments   \n",
       "1  <table><tr><td></td></tr><tr><td></td></tr>\\r\\...   \n",
       "1  L’une des plus grandes chaînes de salles de ci...   \n",
       "2  The slide in the value of cryptocurrencies com...   \n",
       "\n",
       "                                                text        date language  \\\n",
       "0  A Bitcoin mining site powered by otherwise los...  2022-05-04       en   \n",
       "0  Disclosure: I hold short positions in companie...  2022-05-15       fr   \n",
       "1  If you want to pay online, you need to registe...  2022-04-18       en   \n",
       "1  AMC peut remercier les boursicoteurs, qui lui ...  2022-04-19       fr   \n",
       "2  Image source, Getty Images\\r\\nThe value of Bit...  2022-05-09       en   \n",
       "\n",
       "   title_compound  title_pos  title_neu  title_neg  title_sent  text_compound  \\\n",
       "0            0.00      0.000      1.000        0.0           0        -0.0516   \n",
       "0            0.00      0.000      1.000        0.0           0        -0.0516   \n",
       "1            0.00      0.000      1.000        0.0           0         0.5719   \n",
       "1            0.00      0.000      1.000        0.0           0         0.5719   \n",
       "2            0.34      0.255      0.745        0.0           1         0.3400   \n",
       "\n",
       "   text_pos  text_neu  text_neg  text_sent  \\\n",
       "0     0.056     0.882     0.061         -1   \n",
       "0     0.056     0.882     0.061         -1   \n",
       "1     0.157     0.775     0.068          1   \n",
       "1     0.157     0.775     0.068          1   \n",
       "2     0.072     0.928     0.000          1   \n",
       "\n",
       "                                              tokens  \n",
       "0  [bitcoin, mining, site, powered, otherwise, lo...  \n",
       "0  [disclosure, hold, short, position, company, m...  \n",
       "1  [want, pay, online, need, register, account, p...  \n",
       "1  [amc, peut, remercier, le, boursicoteurs, qui,...  \n",
       "2  [image, source, getty, imagesthe, value, bitco...  "
      ]
     },
     "execution_count": 199,
     "metadata": {},
     "output_type": "execute_result"
    }
   ],
   "source": [
    "# Create a new tokens column for Bitcoin\n",
    "def generate_tokens(df):\n",
    "    list_tokens=[]\n",
    "    for row in df[\"text\"]:\n",
    "        tokens = tokenizer(row)\n",
    "        list_tokens.append(tokens)\n",
    "    return list_tokens\n",
    "\n",
    "bitcoin_tokens = generate_tokens(bitcoin_news_all_df)\n",
    "bitcoin_news_all_df['tokens'] = bitcoin_tokens\n",
    "bitcoin_news_all_df.head()"
   ]
  },
  {
   "cell_type": "code",
   "execution_count": 200,
   "metadata": {},
   "outputs": [
    {
     "data": {
      "text/html": [
       "<div>\n",
       "<style scoped>\n",
       "    .dataframe tbody tr th:only-of-type {\n",
       "        vertical-align: middle;\n",
       "    }\n",
       "\n",
       "    .dataframe tbody tr th {\n",
       "        vertical-align: top;\n",
       "    }\n",
       "\n",
       "    .dataframe thead th {\n",
       "        text-align: right;\n",
       "    }\n",
       "</style>\n",
       "<table border=\"1\" class=\"dataframe\">\n",
       "  <thead>\n",
       "    <tr style=\"text-align: right;\">\n",
       "      <th></th>\n",
       "      <th>title</th>\n",
       "      <th>description</th>\n",
       "      <th>text</th>\n",
       "      <th>date</th>\n",
       "      <th>language</th>\n",
       "      <th>title_compound</th>\n",
       "      <th>title_pos</th>\n",
       "      <th>title_neu</th>\n",
       "      <th>title_neg</th>\n",
       "      <th>title_sent</th>\n",
       "      <th>text_compound</th>\n",
       "      <th>text_pos</th>\n",
       "      <th>text_neu</th>\n",
       "      <th>text_neg</th>\n",
       "      <th>text_sent</th>\n",
       "      <th>tokens</th>\n",
       "    </tr>\n",
       "  </thead>\n",
       "  <tbody>\n",
       "    <tr>\n",
       "      <th>0</th>\n",
       "      <td>Why fossil fuel companies see green in Bitcoin...</td>\n",
       "      <td>ExxonMobil and other fossil fuel companies hav...</td>\n",
       "      <td>A Bitcoin mining site powered by otherwise los...</td>\n",
       "      <td>2022-05-04</td>\n",
       "      <td>en</td>\n",
       "      <td>0.00</td>\n",
       "      <td>0.000</td>\n",
       "      <td>1.000</td>\n",
       "      <td>0.0</td>\n",
       "      <td>0</td>\n",
       "      <td>-0.0516</td>\n",
       "      <td>0.056</td>\n",
       "      <td>0.882</td>\n",
       "      <td>0.061</td>\n",
       "      <td>-1</td>\n",
       "      <td>[bitcoin, mining, site, powered, otherwise, lo...</td>\n",
       "    </tr>\n",
       "    <tr>\n",
       "      <th>0</th>\n",
       "      <td>The Problem with Bitcoin Miners</td>\n",
       "      <td>Comments</td>\n",
       "      <td>Disclosure: I hold short positions in companie...</td>\n",
       "      <td>2022-05-15</td>\n",
       "      <td>fr</td>\n",
       "      <td>0.00</td>\n",
       "      <td>0.000</td>\n",
       "      <td>1.000</td>\n",
       "      <td>0.0</td>\n",
       "      <td>0</td>\n",
       "      <td>-0.0516</td>\n",
       "      <td>0.056</td>\n",
       "      <td>0.882</td>\n",
       "      <td>0.061</td>\n",
       "      <td>-1</td>\n",
       "      <td>[disclosure, hold, short, position, company, m...</td>\n",
       "    </tr>\n",
       "    <tr>\n",
       "      <th>1</th>\n",
       "      <td>What is Blockchain: Everything You Need to Kno...</td>\n",
       "      <td>&lt;table&gt;&lt;tr&gt;&lt;td&gt;&lt;/td&gt;&lt;/tr&gt;&lt;tr&gt;&lt;td&gt;&lt;/td&gt;&lt;/tr&gt;\\r\\...</td>\n",
       "      <td>If you want to pay online, you need to registe...</td>\n",
       "      <td>2022-04-18</td>\n",
       "      <td>en</td>\n",
       "      <td>0.00</td>\n",
       "      <td>0.000</td>\n",
       "      <td>1.000</td>\n",
       "      <td>0.0</td>\n",
       "      <td>0</td>\n",
       "      <td>0.5719</td>\n",
       "      <td>0.157</td>\n",
       "      <td>0.775</td>\n",
       "      <td>0.068</td>\n",
       "      <td>1</td>\n",
       "      <td>[want, pay, online, need, register, account, p...</td>\n",
       "    </tr>\n",
       "    <tr>\n",
       "      <th>1</th>\n",
       "      <td>L’âge d’or du cinéma n’est plus, place à l’âge...</td>\n",
       "      <td>L’une des plus grandes chaînes de salles de ci...</td>\n",
       "      <td>AMC peut remercier les boursicoteurs, qui lui ...</td>\n",
       "      <td>2022-04-19</td>\n",
       "      <td>fr</td>\n",
       "      <td>0.00</td>\n",
       "      <td>0.000</td>\n",
       "      <td>1.000</td>\n",
       "      <td>0.0</td>\n",
       "      <td>0</td>\n",
       "      <td>0.5719</td>\n",
       "      <td>0.157</td>\n",
       "      <td>0.775</td>\n",
       "      <td>0.068</td>\n",
       "      <td>1</td>\n",
       "      <td>[amc, peut, remercier, le, boursicoteurs, qui,...</td>\n",
       "    </tr>\n",
       "    <tr>\n",
       "      <th>2</th>\n",
       "      <td>Bitcoin value drops by 50% since November peak</td>\n",
       "      <td>The slide in the value of cryptocurrencies com...</td>\n",
       "      <td>Image source, Getty Images\\r\\nThe value of Bit...</td>\n",
       "      <td>2022-05-09</td>\n",
       "      <td>en</td>\n",
       "      <td>0.34</td>\n",
       "      <td>0.255</td>\n",
       "      <td>0.745</td>\n",
       "      <td>0.0</td>\n",
       "      <td>1</td>\n",
       "      <td>0.3400</td>\n",
       "      <td>0.072</td>\n",
       "      <td>0.928</td>\n",
       "      <td>0.000</td>\n",
       "      <td>1</td>\n",
       "      <td>[image, source, getty, imagesthe, value, bitco...</td>\n",
       "    </tr>\n",
       "  </tbody>\n",
       "</table>\n",
       "</div>"
      ],
      "text/plain": [
       "                                               title  \\\n",
       "0  Why fossil fuel companies see green in Bitcoin...   \n",
       "0                    The Problem with Bitcoin Miners   \n",
       "1  What is Blockchain: Everything You Need to Kno...   \n",
       "1  L’âge d’or du cinéma n’est plus, place à l’âge...   \n",
       "2     Bitcoin value drops by 50% since November peak   \n",
       "\n",
       "                                         description  \\\n",
       "0  ExxonMobil and other fossil fuel companies hav...   \n",
       "0                                           Comments   \n",
       "1  <table><tr><td></td></tr><tr><td></td></tr>\\r\\...   \n",
       "1  L’une des plus grandes chaînes de salles de ci...   \n",
       "2  The slide in the value of cryptocurrencies com...   \n",
       "\n",
       "                                                text        date language  \\\n",
       "0  A Bitcoin mining site powered by otherwise los...  2022-05-04       en   \n",
       "0  Disclosure: I hold short positions in companie...  2022-05-15       fr   \n",
       "1  If you want to pay online, you need to registe...  2022-04-18       en   \n",
       "1  AMC peut remercier les boursicoteurs, qui lui ...  2022-04-19       fr   \n",
       "2  Image source, Getty Images\\r\\nThe value of Bit...  2022-05-09       en   \n",
       "\n",
       "   title_compound  title_pos  title_neu  title_neg  title_sent  text_compound  \\\n",
       "0            0.00      0.000      1.000        0.0           0        -0.0516   \n",
       "0            0.00      0.000      1.000        0.0           0        -0.0516   \n",
       "1            0.00      0.000      1.000        0.0           0         0.5719   \n",
       "1            0.00      0.000      1.000        0.0           0         0.5719   \n",
       "2            0.34      0.255      0.745        0.0           1         0.3400   \n",
       "\n",
       "   text_pos  text_neu  text_neg  text_sent  \\\n",
       "0     0.056     0.882     0.061         -1   \n",
       "0     0.056     0.882     0.061         -1   \n",
       "1     0.157     0.775     0.068          1   \n",
       "1     0.157     0.775     0.068          1   \n",
       "2     0.072     0.928     0.000          1   \n",
       "\n",
       "                                              tokens  \n",
       "0  [bitcoin, mining, site, powered, otherwise, lo...  \n",
       "0  [disclosure, hold, short, position, company, m...  \n",
       "1  [want, pay, online, need, register, account, p...  \n",
       "1  [amc, peut, remercier, le, boursicoteurs, qui,...  \n",
       "2  [image, source, getty, imagesthe, value, bitco...  "
      ]
     },
     "execution_count": 200,
     "metadata": {},
     "output_type": "execute_result"
    }
   ],
   "source": [
    "# Create a new tokens column for Ethereum\n",
    "ethereum_tokens = generate_tokens(ethereum_news_all_df)\n",
    "ethereum_news_all_df['tokens'] = ethereum_tokens\n",
    "ethereum_news_all_df.head()"
   ]
  },
  {
   "cell_type": "markdown",
   "metadata": {},
   "source": [
    "---"
   ]
  },
  {
   "cell_type": "markdown",
   "metadata": {},
   "source": [
    "### NGrams and Frequency Analysis\n",
    "\n",
    "In this section you will look at the ngrams and word frequency for each coin. \n",
    "\n",
    "1. Use NLTK to produce the n-grams for N = 2. \n",
    "2. List the top 10 words for each coin. "
   ]
  },
  {
   "cell_type": "code",
   "execution_count": 15,
   "metadata": {},
   "outputs": [],
   "source": []
  },
  {
   "cell_type": "code",
   "execution_count": 16,
   "metadata": {},
   "outputs": [],
   "source": [
    "# Generate the Bitcoin N-grams where N=2\n",
    "# YOUR CODE HERE!"
   ]
  },
  {
   "cell_type": "code",
   "execution_count": 17,
   "metadata": {},
   "outputs": [],
   "source": [
    "# Generate the Ethereum N-grams where N=2\n",
    "# YOUR CODE HERE!"
   ]
  },
  {
   "cell_type": "code",
   "execution_count": 18,
   "metadata": {},
   "outputs": [],
   "source": [
    "# Function token_count generates the top 10 words for a given coin\n",
    "def token_count(tokens, N=3):\n",
    "    \"\"\"Returns the top N tokens from the frequency count\"\"\"\n",
    "    return Counter(tokens).most_common(N)"
   ]
  },
  {
   "cell_type": "code",
   "execution_count": 19,
   "metadata": {},
   "outputs": [],
   "source": [
    "# Use token_count to get the top 10 words for Bitcoin\n",
    "# YOUR CODE HERE!"
   ]
  },
  {
   "cell_type": "code",
   "execution_count": 20,
   "metadata": {},
   "outputs": [],
   "source": [
    "# Use token_count to get the top 10 words for Ethereum\n",
    "# YOUR CODE HERE!"
   ]
  },
  {
   "cell_type": "markdown",
   "metadata": {},
   "source": [
    "---"
   ]
  },
  {
   "cell_type": "markdown",
   "metadata": {},
   "source": [
    "### Word Clouds\n",
    "\n",
    "In this section, you will generate word clouds for each coin to summarize the news for each coin"
   ]
  },
  {
   "cell_type": "code",
   "execution_count": 21,
   "metadata": {},
   "outputs": [],
   "source": []
  },
  {
   "cell_type": "code",
   "execution_count": 22,
   "metadata": {},
   "outputs": [],
   "source": [
    "# Generate the Bitcoin word cloud\n",
    "# YOUR CODE HERE!"
   ]
  },
  {
   "cell_type": "code",
   "execution_count": 23,
   "metadata": {},
   "outputs": [],
   "source": [
    "# Generate the Ethereum word cloud\n",
    "# YOUR CODE HERE!"
   ]
  },
  {
   "cell_type": "markdown",
   "metadata": {},
   "source": [
    "---\n",
    "## 3. Named Entity Recognition\n",
    "\n",
    "In this section, you will build a named entity recognition model for both Bitcoin and Ethereum, then visualize the tags using SpaCy."
   ]
  },
  {
   "cell_type": "code",
   "execution_count": 24,
   "metadata": {},
   "outputs": [],
   "source": []
  },
  {
   "cell_type": "code",
   "execution_count": 25,
   "metadata": {},
   "outputs": [],
   "source": [
    "# Download the language model for SpaCy\n",
    "# !python -m spacy download en_core_web_sm"
   ]
  },
  {
   "cell_type": "code",
   "execution_count": 26,
   "metadata": {},
   "outputs": [],
   "source": [
    "# Load the spaCy model\n",
    "nlp = spacy.load('en_core_web_sm')"
   ]
  },
  {
   "cell_type": "markdown",
   "metadata": {},
   "source": [
    "---\n",
    "### Bitcoin NER"
   ]
  },
  {
   "cell_type": "code",
   "execution_count": 27,
   "metadata": {},
   "outputs": [],
   "source": [
    "# Concatenate all of the Bitcoin text together\n",
    "# YOUR CODE HERE!"
   ]
  },
  {
   "cell_type": "code",
   "execution_count": 28,
   "metadata": {},
   "outputs": [],
   "source": [
    "# Run the NER processor on all of the text\n",
    "# YOUR CODE HERE!\n",
    "\n",
    "# Add a title to the document\n",
    "# YOUR CODE HERE!"
   ]
  },
  {
   "cell_type": "code",
   "execution_count": 29,
   "metadata": {},
   "outputs": [],
   "source": [
    "# Render the visualization\n",
    "# YOUR CODE HERE!"
   ]
  },
  {
   "cell_type": "code",
   "execution_count": 30,
   "metadata": {},
   "outputs": [],
   "source": [
    "# List all Entities\n",
    "# YOUR CODE HERE!"
   ]
  },
  {
   "cell_type": "markdown",
   "metadata": {},
   "source": [
    "---"
   ]
  },
  {
   "cell_type": "markdown",
   "metadata": {},
   "source": [
    "### Ethereum NER"
   ]
  },
  {
   "cell_type": "code",
   "execution_count": 31,
   "metadata": {},
   "outputs": [],
   "source": [
    "# Concatenate all of the Ethereum text together\n",
    "# YOUR CODE HERE!"
   ]
  },
  {
   "cell_type": "code",
   "execution_count": 32,
   "metadata": {},
   "outputs": [],
   "source": [
    "# Run the NER processor on all of the text\n",
    "# YOUR CODE HERE!\n",
    "\n",
    "# Add a title to the document\n",
    "# YOUR CODE HERE!"
   ]
  },
  {
   "cell_type": "code",
   "execution_count": 33,
   "metadata": {},
   "outputs": [],
   "source": [
    "# Render the visualization\n",
    "# YOUR CODE HERE!"
   ]
  },
  {
   "cell_type": "code",
   "execution_count": 34,
   "metadata": {},
   "outputs": [],
   "source": [
    "# List all Entities\n",
    "# YOUR CODE HERE!"
   ]
  },
  {
   "cell_type": "markdown",
   "metadata": {},
   "source": [
    "---"
   ]
  }
 ],
 "metadata": {
  "file_extension": ".py",
  "kernelspec": {
   "display_name": "Python 3 (ipykernel)",
   "language": "python",
   "name": "python3"
  },
  "language_info": {
   "codemirror_mode": {
    "name": "ipython",
    "version": 3
   },
   "file_extension": ".py",
   "mimetype": "text/x-python",
   "name": "python",
   "nbconvert_exporter": "python",
   "pygments_lexer": "ipython3",
   "version": "3.7.7"
  },
  "mimetype": "text/x-python",
  "name": "python",
  "npconvert_exporter": "python",
  "pygments_lexer": "ipython3",
  "version": 3
 },
 "nbformat": 4,
 "nbformat_minor": 4
}
