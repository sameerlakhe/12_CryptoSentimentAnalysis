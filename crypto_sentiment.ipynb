{
 "cells": [
  {
   "cell_type": "markdown",
   "metadata": {},
   "source": [
    "# Unit 12 - Tales from the Crypto\n",
    "\n",
    "---\n"
   ]
  },
  {
   "cell_type": "markdown",
   "metadata": {},
   "source": [
    "## 1. Sentiment Analysis\n",
    "\n",
    "Use the [newsapi](https://newsapi.org/) to pull the latest news articles for Bitcoin and Ethereum and create a DataFrame of sentiment scores for each coin.\n",
    "\n",
    "Use descriptive statistics to answer the following questions:\n",
    "1. Which coin had the highest mean positive score?\n",
    "2. Which coin had the highest negative score?\n",
    "3. Which coin had the highest positive score?"
   ]
  },
  {
   "cell_type": "code",
   "execution_count": 232,
   "metadata": {},
   "outputs": [
    {
     "name": "stderr",
     "output_type": "stream",
     "text": [
      "[nltk_data] Downloading package vader_lexicon to\n",
      "[nltk_data]     /Users/sameerlakhe/nltk_data...\n",
      "[nltk_data]   Package vader_lexicon is already up-to-date!\n"
     ]
    }
   ],
   "source": [
    "# Initial imports\n",
    "import os\n",
    "import pandas as pd\n",
    "from dotenv import load_dotenv\n",
    "import nltk as nltk\n",
    "from nltk.sentiment.vader import SentimentIntensityAnalyzer\n",
    "from nltk.tokenize import word_tokenize, sent_tokenize\n",
    "from nltk.corpus import stopwords\n",
    "from nltk.stem import WordNetLemmatizer, PorterStemmer\n",
    "from string import punctuation\n",
    "import re\n",
    "from collections import Counter\n",
    "from nltk import ngrams\n",
    "from wordcloud import WordCloud\n",
    "import matplotlib.pyplot as plt\n",
    "import matplotlib as mpl\n",
    "import spacy\n",
    "from spacy import displacy\n",
    "from newsapi import NewsApiClient\n",
    "from path import Path\n",
    "import csv\n",
    "nltk.download('vader_lexicon')\n",
    "plt.style.use('seaborn-whitegrid')\n",
    "mpl.rcParams['figure.figsize'] = [20.0, 10.0]\n",
    "%matplotlib inline\n",
    "\n"
   ]
  },
  {
   "cell_type": "code",
   "execution_count": 233,
   "metadata": {},
   "outputs": [],
   "source": [
    "# Read your api key environment variable\n",
    "load_dotenv()\n",
    "api_key = os.getenv(\"NEWS_API_KEY\")"
   ]
  },
  {
   "cell_type": "code",
   "execution_count": 234,
   "metadata": {},
   "outputs": [],
   "source": [
    "# Create a newsapi client\n",
    "newsapi = NewsApiClient(api_key=api_key)\n",
    "\n",
    "# Function to create a dataframe for english news and french news\n",
    "def create_df(news, language):\n",
    "    articles = []\n",
    "    for article in news:\n",
    "        try:\n",
    "            title = article[\"title\"]\n",
    "            description = article[\"description\"]\n",
    "            text = article[\"content\"]\n",
    "            date = article[\"publishedAt\"][:10]\n",
    "\n",
    "            articles.append({\n",
    "                \"title\": title,\n",
    "                \"description\": description,\n",
    "                \"text\": text,\n",
    "                \"date\": date,\n",
    "                \"language\": language\n",
    "            })\n",
    "        except AttributeError:\n",
    "            pass\n",
    "\n",
    "    return pd.DataFrame(articles)\n",
    "\n",
    "#this function writes the event data to a csv file to avoid calling the API multiple times\n",
    "# for the same date range\n",
    "#def write_csv(data, file_name):\n",
    "   # with open(file_name, mode='w', encoding='utf-8', newline='\\n') as csv_file:\n",
    "       # writer = csv.DictWriter(csv_file, fieldnames = data[0].keys())\n",
    "\n",
    "        #writer.writeheader()\n",
    "        #for event in data:\n",
    "            #writer.writerow(event)\n",
    "            \n",
    "def write_csv(df,file_name):\n",
    "    file_path = Path(file_name)\n",
    "    df.to_csv(file_path, index=False, encoding='utf-8-sig')\n",
    "\n",
    "def get_news(query,language,file_name):\n",
    "    complete_file_name = \"./Resources/\"+file_name\n",
    "    path = Path(complete_file_name)\n",
    "    if path.exists():\n",
    "        print(f'The file {complete_file_name} exists')\n",
    "        news_df = pd.read_csv(complete_file_name)\n",
    "    else:\n",
    "        print(f'retreiving data from new API for query: {query}, and language:{language}')\n",
    "        results = newsapi.get_everything(\n",
    "                    q=query,\n",
    "                    language=language\n",
    "                )\n",
    "        print(f'total results for query \"{query}\" in langyage:{language} are : {results[\"totalResults\"]}')\n",
    "        #convert the news articles to dataframe\n",
    "        news_df = create_df(results[\"articles\"], language)\n",
    "        write_csv(news_df,complete_file_name)\n",
    "    return news_df\n",
    "    "
   ]
  },
  {
   "cell_type": "code",
   "execution_count": 235,
   "metadata": {},
   "outputs": [
    {
     "name": "stdout",
     "output_type": "stream",
     "text": [
      "The file ./Resources/Bitcoin2022_en.csv exists\n",
      "The file ./Resources/Bitcoin2022_fr.csv exists\n"
     ]
    },
    {
     "data": {
      "text/html": [
       "<div>\n",
       "<style scoped>\n",
       "    .dataframe tbody tr th:only-of-type {\n",
       "        vertical-align: middle;\n",
       "    }\n",
       "\n",
       "    .dataframe tbody tr th {\n",
       "        vertical-align: top;\n",
       "    }\n",
       "\n",
       "    .dataframe thead th {\n",
       "        text-align: right;\n",
       "    }\n",
       "</style>\n",
       "<table border=\"1\" class=\"dataframe\">\n",
       "  <thead>\n",
       "    <tr style=\"text-align: right;\">\n",
       "      <th></th>\n",
       "      <th>title</th>\n",
       "      <th>description</th>\n",
       "      <th>text</th>\n",
       "      <th>date</th>\n",
       "      <th>language</th>\n",
       "    </tr>\n",
       "  </thead>\n",
       "  <tbody>\n",
       "    <tr>\n",
       "      <th>0</th>\n",
       "      <td>The Problem with Bitcoin Miners</td>\n",
       "      <td>Comments</td>\n",
       "      <td>Disclosure: I hold short positions in companie...</td>\n",
       "      <td>2022-05-15</td>\n",
       "      <td>fr</td>\n",
       "    </tr>\n",
       "    <tr>\n",
       "      <th>1</th>\n",
       "      <td>L’âge d’or du cinéma n’est plus, place à l’âge...</td>\n",
       "      <td>L’une des plus grandes chaînes de salles de ci...</td>\n",
       "      <td>AMC peut remercier les boursicoteurs, qui lui ...</td>\n",
       "      <td>2022-04-19</td>\n",
       "      <td>fr</td>\n",
       "    </tr>\n",
       "    <tr>\n",
       "      <th>2</th>\n",
       "      <td>Dans le plus grand secret, Snowden a créé une ...</td>\n",
       "      <td>Réfugié en Russie depuis qu'il a reconnu être ...</td>\n",
       "      <td>Edward Snowden, ancien employé de la CIA, sort...</td>\n",
       "      <td>2022-04-28</td>\n",
       "      <td>fr</td>\n",
       "    </tr>\n",
       "    <tr>\n",
       "      <th>3</th>\n",
       "      <td>Ne vous tatouez pas votre crypto préférée, vou...</td>\n",
       "      <td>Ce milliardaire américain a eu la mauvaise idé...</td>\n",
       "      <td>Mike Novogratz est l’une des figures emblémati...</td>\n",
       "      <td>2022-05-15</td>\n",
       "      <td>fr</td>\n",
       "    </tr>\n",
       "    <tr>\n",
       "      <th>4</th>\n",
       "      <td>Le bitcoin perd ses gains de 2022 et passe sou...</td>\n",
       "      <td>Londres - Le bitcoin, la principale cryptomonn...</td>\n",
       "      <td>A 29.764 dollars, son plus bas mardi, le bitco...</td>\n",
       "      <td>2022-05-10</td>\n",
       "      <td>fr</td>\n",
       "    </tr>\n",
       "  </tbody>\n",
       "</table>\n",
       "</div>"
      ],
      "text/plain": [
       "                                               title  \\\n",
       "0                    The Problem with Bitcoin Miners   \n",
       "1  L’âge d’or du cinéma n’est plus, place à l’âge...   \n",
       "2  Dans le plus grand secret, Snowden a créé une ...   \n",
       "3  Ne vous tatouez pas votre crypto préférée, vou...   \n",
       "4  Le bitcoin perd ses gains de 2022 et passe sou...   \n",
       "\n",
       "                                         description  \\\n",
       "0                                           Comments   \n",
       "1  L’une des plus grandes chaînes de salles de ci...   \n",
       "2  Réfugié en Russie depuis qu'il a reconnu être ...   \n",
       "3  Ce milliardaire américain a eu la mauvaise idé...   \n",
       "4  Londres - Le bitcoin, la principale cryptomonn...   \n",
       "\n",
       "                                                text        date language  \n",
       "0  Disclosure: I hold short positions in companie...  2022-05-15       fr  \n",
       "1  AMC peut remercier les boursicoteurs, qui lui ...  2022-04-19       fr  \n",
       "2  Edward Snowden, ancien employé de la CIA, sort...  2022-04-28       fr  \n",
       "3  Mike Novogratz est l’une des figures emblémati...  2022-05-15       fr  \n",
       "4  A 29.764 dollars, son plus bas mardi, le bitco...  2022-05-10       fr  "
      ]
     },
     "execution_count": 235,
     "metadata": {},
     "output_type": "execute_result"
    }
   ],
   "source": [
    "bitcoin_news_en_df = get_news(\"bitcoin and 2022\",\"en\",\"Bitcoin2022_en.csv\")\n",
    "bitcoin_news_en_df.head()\n",
    "\n",
    "bitcoin_news_fr_df = get_news(\"bitcoin and 2022\",\"fr\",\"Bitcoin2022_fr.csv\")\n",
    "bitcoin_news_fr_df.head()"
   ]
  },
  {
   "cell_type": "code",
   "execution_count": 236,
   "metadata": {},
   "outputs": [
    {
     "data": {
      "text/html": [
       "<div>\n",
       "<style scoped>\n",
       "    .dataframe tbody tr th:only-of-type {\n",
       "        vertical-align: middle;\n",
       "    }\n",
       "\n",
       "    .dataframe tbody tr th {\n",
       "        vertical-align: top;\n",
       "    }\n",
       "\n",
       "    .dataframe thead th {\n",
       "        text-align: right;\n",
       "    }\n",
       "</style>\n",
       "<table border=\"1\" class=\"dataframe\">\n",
       "  <thead>\n",
       "    <tr style=\"text-align: right;\">\n",
       "      <th></th>\n",
       "      <th>title</th>\n",
       "      <th>description</th>\n",
       "      <th>text</th>\n",
       "      <th>date</th>\n",
       "      <th>language</th>\n",
       "    </tr>\n",
       "  </thead>\n",
       "  <tbody>\n",
       "    <tr>\n",
       "      <th>0</th>\n",
       "      <td>Why fossil fuel companies see green in Bitcoin...</td>\n",
       "      <td>ExxonMobil and other fossil fuel companies hav...</td>\n",
       "      <td>A Bitcoin mining site powered by otherwise los...</td>\n",
       "      <td>2022-05-04</td>\n",
       "      <td>en</td>\n",
       "    </tr>\n",
       "    <tr>\n",
       "      <th>1</th>\n",
       "      <td>What is Blockchain: Everything You Need to Kno...</td>\n",
       "      <td>&lt;table&gt;&lt;tr&gt;&lt;td&gt;&lt;/td&gt;&lt;/tr&gt;&lt;tr&gt;&lt;td&gt;&lt;/td&gt;&lt;/tr&gt;\\r\\...</td>\n",
       "      <td>If you want to pay online, you need to registe...</td>\n",
       "      <td>2022-04-18</td>\n",
       "      <td>en</td>\n",
       "    </tr>\n",
       "    <tr>\n",
       "      <th>2</th>\n",
       "      <td>Bitcoin value drops by 50% since November peak</td>\n",
       "      <td>The slide in the value of cryptocurrencies com...</td>\n",
       "      <td>Image source, Getty Images\\r\\nThe value of Bit...</td>\n",
       "      <td>2022-05-09</td>\n",
       "      <td>en</td>\n",
       "    </tr>\n",
       "    <tr>\n",
       "      <th>3</th>\n",
       "      <td>Factbox: U.S. companies and their cryptocurren...</td>\n",
       "      <td>A meltdown in one of the world's largest stabl...</td>\n",
       "      <td>May 12 (Reuters) - A meltdown in one of the wo...</td>\n",
       "      <td>2022-05-12</td>\n",
       "      <td>en</td>\n",
       "    </tr>\n",
       "    <tr>\n",
       "      <th>4</th>\n",
       "      <td>The Top 12 Blockchain Speakers for 2022</td>\n",
       "      <td>What’s happening in the blockchain industry th...</td>\n",
       "      <td>Whats happening in the blockchain industry thi...</td>\n",
       "      <td>2022-04-26</td>\n",
       "      <td>en</td>\n",
       "    </tr>\n",
       "  </tbody>\n",
       "</table>\n",
       "</div>"
      ],
      "text/plain": [
       "                                               title  \\\n",
       "0  Why fossil fuel companies see green in Bitcoin...   \n",
       "1  What is Blockchain: Everything You Need to Kno...   \n",
       "2     Bitcoin value drops by 50% since November peak   \n",
       "3  Factbox: U.S. companies and their cryptocurren...   \n",
       "4            The Top 12 Blockchain Speakers for 2022   \n",
       "\n",
       "                                         description  \\\n",
       "0  ExxonMobil and other fossil fuel companies hav...   \n",
       "1  <table><tr><td></td></tr><tr><td></td></tr>\\r\\...   \n",
       "2  The slide in the value of cryptocurrencies com...   \n",
       "3  A meltdown in one of the world's largest stabl...   \n",
       "4  What’s happening in the blockchain industry th...   \n",
       "\n",
       "                                                text        date language  \n",
       "0  A Bitcoin mining site powered by otherwise los...  2022-05-04       en  \n",
       "1  If you want to pay online, you need to registe...  2022-04-18       en  \n",
       "2  Image source, Getty Images\\r\\nThe value of Bit...  2022-05-09       en  \n",
       "3  May 12 (Reuters) - A meltdown in one of the wo...  2022-05-12       en  \n",
       "4  Whats happening in the blockchain industry thi...  2022-04-26       en  "
      ]
     },
     "execution_count": 236,
     "metadata": {},
     "output_type": "execute_result"
    }
   ],
   "source": [
    "# Create the Bitcoin sentiment scores DataFrame\n",
    "# Create a DataFrame with the news in English\n",
    "#bitcoin_news_en_df = create_df(bitcoin_news_en[\"articles\"], \"en\")\n",
    "# Create a DataFrame with the news in French\n",
    "#bitcoin_news_fr_df = create_df(bitcoin_news_fr[\"articles\"], \"fr\")\n",
    "#concat to get dataframe with news in english and french\n",
    "bitcoin_news_all_df =pd.concat([bitcoin_news_en_df, bitcoin_news_fr_df])  \n",
    "bitcoin_news_all_df.reset_index()\n",
    "bitcoin_news_all_df.head()\n",
    "# Save to CSV, read the CSV to get the data as there is limit for calling news API multiple times in day\n",
    "#file_path = Path(\"./Resources/bitcoin_news_en_fr.csv\")\n",
    "#bitcoin_news_all_df.to_csv(file_path, index=False, encoding='utf-8-sig')"
   ]
  },
  {
   "cell_type": "code",
   "execution_count": 237,
   "metadata": {},
   "outputs": [
    {
     "name": "stdout",
     "output_type": "stream",
     "text": [
      "The file ./Resources/Ethereum2022_en.csv exists\n",
      "The file ./Resources/Ethereum2022_fr.csv exists\n"
     ]
    },
    {
     "data": {
      "text/html": [
       "<div>\n",
       "<style scoped>\n",
       "    .dataframe tbody tr th:only-of-type {\n",
       "        vertical-align: middle;\n",
       "    }\n",
       "\n",
       "    .dataframe tbody tr th {\n",
       "        vertical-align: top;\n",
       "    }\n",
       "\n",
       "    .dataframe thead th {\n",
       "        text-align: right;\n",
       "    }\n",
       "</style>\n",
       "<table border=\"1\" class=\"dataframe\">\n",
       "  <thead>\n",
       "    <tr style=\"text-align: right;\">\n",
       "      <th></th>\n",
       "      <th>title</th>\n",
       "      <th>description</th>\n",
       "      <th>text</th>\n",
       "      <th>date</th>\n",
       "      <th>language</th>\n",
       "    </tr>\n",
       "  </thead>\n",
       "  <tbody>\n",
       "    <tr>\n",
       "      <th>0</th>\n",
       "      <td>What is Blockchain: Everything You Need to Kno...</td>\n",
       "      <td>&lt;table&gt;&lt;tr&gt;&lt;td&gt;&lt;/td&gt;&lt;/tr&gt;&lt;tr&gt;&lt;td&gt;&lt;/td&gt;&lt;/tr&gt;\\r\\...</td>\n",
       "      <td>If you want to pay online, you need to registe...</td>\n",
       "      <td>2022-04-18</td>\n",
       "      <td>en</td>\n",
       "    </tr>\n",
       "    <tr>\n",
       "      <th>1</th>\n",
       "      <td>How Bored Ape Yacht Club Broke Ethereum - CNET</td>\n",
       "      <td>Transactions stalled for hours, and people pai...</td>\n",
       "      <td>When Bored Ape Yacht Club creators Yuga Labs a...</td>\n",
       "      <td>2022-05-04</td>\n",
       "      <td>en</td>\n",
       "    </tr>\n",
       "    <tr>\n",
       "      <th>2</th>\n",
       "      <td>Yuga Labs apologises after sale of virtual lan...</td>\n",
       "      <td>Demand for plots of land in multiplayer game O...</td>\n",
       "      <td>A multi-billion dollar cryptocurrency company ...</td>\n",
       "      <td>2022-05-02</td>\n",
       "      <td>en</td>\n",
       "    </tr>\n",
       "    <tr>\n",
       "      <th>3</th>\n",
       "      <td>What is the Ethereum merge and how could it ma...</td>\n",
       "      <td>Ethereum is preparing for an upgrade that’s be...</td>\n",
       "      <td>Ethereum is preparing for an upgrade thats bee...</td>\n",
       "      <td>2022-04-26</td>\n",
       "      <td>en</td>\n",
       "    </tr>\n",
       "    <tr>\n",
       "      <th>4</th>\n",
       "      <td>Ethereum and Bitcoin Prices Are Tanking. Here’...</td>\n",
       "      <td>&lt;ol&gt;&lt;li&gt;Ethereum and Bitcoin Prices Are Tankin...</td>\n",
       "      <td>Editorial IndependenceWe want to help you make...</td>\n",
       "      <td>2022-05-09</td>\n",
       "      <td>en</td>\n",
       "    </tr>\n",
       "  </tbody>\n",
       "</table>\n",
       "</div>"
      ],
      "text/plain": [
       "                                               title  \\\n",
       "0  What is Blockchain: Everything You Need to Kno...   \n",
       "1     How Bored Ape Yacht Club Broke Ethereum - CNET   \n",
       "2  Yuga Labs apologises after sale of virtual lan...   \n",
       "3  What is the Ethereum merge and how could it ma...   \n",
       "4  Ethereum and Bitcoin Prices Are Tanking. Here’...   \n",
       "\n",
       "                                         description  \\\n",
       "0  <table><tr><td></td></tr><tr><td></td></tr>\\r\\...   \n",
       "1  Transactions stalled for hours, and people pai...   \n",
       "2  Demand for plots of land in multiplayer game O...   \n",
       "3  Ethereum is preparing for an upgrade that’s be...   \n",
       "4  <ol><li>Ethereum and Bitcoin Prices Are Tankin...   \n",
       "\n",
       "                                                text        date language  \n",
       "0  If you want to pay online, you need to registe...  2022-04-18       en  \n",
       "1  When Bored Ape Yacht Club creators Yuga Labs a...  2022-05-04       en  \n",
       "2  A multi-billion dollar cryptocurrency company ...  2022-05-02       en  \n",
       "3  Ethereum is preparing for an upgrade thats bee...  2022-04-26       en  \n",
       "4  Editorial IndependenceWe want to help you make...  2022-05-09       en  "
      ]
     },
     "execution_count": 237,
     "metadata": {},
     "output_type": "execute_result"
    }
   ],
   "source": [
    "# Fetch the Ethereum news articles\n",
    "ethereum_news_en_df = get_news(\"ethereum and 2022\",\"en\",\"Ethereum2022_en.csv\")\n",
    "# Show the total number of news\n",
    "#ethereum_news_en_df.head()\n",
    "\n",
    "ethereum_news_fr_df = get_news(\"ethereum and 2022\",\"fr\",\"Ethereum2022_fr.csv\")\n",
    "# Show the total number of news\n",
    "#ethereum_news_fr_df.head()\n",
    "ethereum_news_all_df =pd.concat([ethereum_news_en_df, ethereum_news_fr_df])  \n",
    "ethereum_news_all_df.reset_index()\n",
    "ethereum_news_all_df.head()"
   ]
  },
  {
   "cell_type": "code",
   "execution_count": 238,
   "metadata": {},
   "outputs": [
    {
     "name": "stdout",
     "output_type": "stream",
     "text": [
      "   title_compound  title_pos  title_neu  title_neg  title_sent\n",
      "0          0.0000      0.000      1.000        0.0           0\n",
      "1          0.0000      0.000      1.000        0.0           0\n",
      "2          0.3400      0.255      0.745        0.0           1\n",
      "3          0.0000      0.000      1.000        0.0           0\n",
      "4          0.2023      0.231      0.769        0.0           1\n",
      "   text_compound  text_pos  text_neu  text_neg  text_sent\n",
      "0        -0.0516     0.056     0.882     0.061         -1\n",
      "1         0.5719     0.157     0.775     0.068          1\n",
      "2         0.3400     0.072     0.928     0.000          1\n",
      "3         0.3400     0.074     0.926     0.000          1\n",
      "4         0.0000     0.000     1.000     0.000          0\n"
     ]
    }
   ],
   "source": [
    "# Sentiment calculation based on compound score\n",
    "def get_sentiment(score):\n",
    "    \"\"\"\n",
    "    Calculates the sentiment based on the compound score.\n",
    "    \"\"\"\n",
    "    result = 0  # Neutral by default\n",
    "    if score >= 0.05:  # Positive\n",
    "        result = 1\n",
    "    elif score <= -0.05:  # Negative\n",
    "        result = -1\n",
    "\n",
    "    return result\n",
    "\n",
    "# Sentiment scores dictionaries\n",
    "title_sent = {\n",
    "        \"title_compound\": [],\n",
    "        \"title_pos\": [],\n",
    "        \"title_neu\": [],\n",
    "        \"title_neg\": [],\n",
    "        \"title_sent\": [],\n",
    "    }\n",
    "text_sent = {\n",
    "        \"text_compound\": [],\n",
    "        \"text_pos\": [],\n",
    "        \"text_neu\": [],\n",
    "        \"text_neg\": [],\n",
    "        \"text_sent\": [],\n",
    "        }\n",
    "\n",
    "analyzer = SentimentIntensityAnalyzer()\n",
    "# Get sentiment for the text and the title\n",
    "def get_sentiment_score(news_df):\n",
    "    \n",
    "    for index, row in news_df.iterrows():\n",
    "        try:\n",
    "            # Sentiment scoring with VADER\n",
    "            title_sentiment = analyzer.polarity_scores(row[\"title\"])\n",
    "            title_sent[\"title_compound\"].append(title_sentiment[\"compound\"])\n",
    "            title_sent[\"title_pos\"].append(title_sentiment[\"pos\"])\n",
    "            title_sent[\"title_neu\"].append(title_sentiment[\"neu\"])\n",
    "            title_sent[\"title_neg\"].append(title_sentiment[\"neg\"])\n",
    "            title_sent[\"title_sent\"].append(get_sentiment(title_sentiment[\"compound\"]))\n",
    "\n",
    "            text_sentiment = analyzer.polarity_scores(row[\"text\"])\n",
    "            text_sent[\"text_compound\"].append(text_sentiment[\"compound\"])\n",
    "            text_sent[\"text_pos\"].append(text_sentiment[\"pos\"])\n",
    "            text_sent[\"text_neu\"].append(text_sentiment[\"neu\"])\n",
    "            text_sent[\"text_neg\"].append(text_sentiment[\"neg\"])\n",
    "            text_sent[\"text_sent\"].append(get_sentiment(text_sentiment[\"compound\"]))\n",
    "        except AttributeError:\n",
    "            pass\n",
    "        \n",
    "    return title_sent,text_sent\n",
    "\n",
    "title_sent,text_sent = get_sentiment_score(bitcoin_news_all_df)\n",
    "    \n",
    "# Attaching sentiment columns to the News DataFrame\n",
    "\n",
    "bitcoin_title_sentiment_df = pd.DataFrame(title_sent)\n",
    "bitcoin_text_sentiment_df = pd.DataFrame(text_sent)\n",
    "\n",
    "#bitcoin_title_sentiment_df\n",
    "#bitcoin_text_sentiment_df\n",
    "print(bitcoin_title_sentiment_df.head())\n",
    "print(bitcoin_text_sentiment_df.head())\n",
    "#print(title_sent)\n",
    "#bitcoin_news_all_df = bitcoin_news_all_df.join(bitcoin_title_sentiment_df).join(bitcoin_text_sentiment_df)\n",
    "\n",
    "#bitcoin_news_all_df.head()\n",
    "bitcoin_news_all_df = bitcoin_news_all_df.join(bitcoin_title_sentiment_df).join(bitcoin_text_sentiment_df)"
   ]
  },
  {
   "cell_type": "code",
   "execution_count": 239,
   "metadata": {},
   "outputs": [
    {
     "name": "stdout",
     "output_type": "stream",
     "text": [
      "   title_compound  title_pos  title_neu  title_neg  title_sent\n",
      "0          0.0000      0.000      1.000        0.0           0\n",
      "1          0.0000      0.000      1.000        0.0           0\n",
      "2          0.3400      0.255      0.745        0.0           1\n",
      "3          0.0000      0.000      1.000        0.0           0\n",
      "4          0.2023      0.231      0.769        0.0           1\n",
      "   text_compound  text_pos  text_neu  text_neg  text_sent\n",
      "0        -0.0516     0.056     0.882     0.061         -1\n",
      "1         0.5719     0.157     0.775     0.068          1\n",
      "2         0.3400     0.072     0.928     0.000          1\n",
      "3         0.3400     0.074     0.926     0.000          1\n",
      "4         0.0000     0.000     1.000     0.000          0\n"
     ]
    }
   ],
   "source": [
    "# Create the Ethereum sentiment scores DataFrame\n",
    "title_sent,text_sent = get_sentiment_score(ethereum_news_all_df)\n",
    "    \n",
    "# Attaching sentiment columns to the News DataFrame\n",
    "ethereum_title_sentiment_df = pd.DataFrame(title_sent)\n",
    "ethereum_text_sentiment_df = pd.DataFrame(text_sent)\n",
    "\n",
    "print(ethereum_title_sentiment_df.head())\n",
    "print(ethereum_text_sentiment_df.head())\n",
    "\n",
    "ethereum_news_all_df = ethereum_news_all_df.join(ethereum_title_sentiment_df).join(ethereum_text_sentiment_df)\n",
    "\n",
    "\n",
    "def get_scores(df,coin_name):\n",
    "    coin_scores={}\n",
    "    max_coin_title_compound_score = df[\"title_compound\"].max()\n",
    "    coin_scores['max_coin_title_compound_score'] = max_coin_title_compound_score\n",
    "    \n",
    "    max_coin_text_compound_score = df[\"text_compound\"].max()\n",
    "    coin_scores['max_coin_text_compound_score'] = max_coin_text_compound_score\n",
    "    \n",
    "    max_coin_title_positive_score = df[\"title_pos\"].max()\n",
    "    coin_scores['max_coin_title_positive_score'] = max_coin_title_positive_score\n",
    "    \n",
    "    max_coin_text_positive_score = df[\"text_pos\"].max()\n",
    "    coin_scores['max_coin_text_positive_score'] = max_coin_text_positive_score\n",
    "    \n",
    "    mean_coin_title_positive_score = df[\"title_pos\"].mean()\n",
    "    coin_scores['mean_coin_title_positive_score'] = mean_coin_title_positive_score\n",
    "    \n",
    "    mean_coin_text_positive_score = df[\"text_pos\"].mean()\n",
    "    coin_scores['mean_coin_text_positive_score'] = mean_coin_text_positive_score\n",
    "    \n",
    "    return coin_scores\n",
    "\n"
   ]
  },
  {
   "cell_type": "code",
   "execution_count": 240,
   "metadata": {},
   "outputs": [
    {
     "data": {
      "text/plain": [
       "<AxesSubplot:title={'center':'Bitcoin Title and Text Sentiment Comparisson'}>"
      ]
     },
     "execution_count": 240,
     "metadata": {},
     "output_type": "execute_result"
    },
    {
     "data": {
      "image/png": "[encoded data removed]",
      "text/plain": [
       "<Figure size 720x576 with 1 Axes>"
      ]
     },
     "metadata": {
      "needs_background": "light"
     },
     "output_type": "display_data"
    }
   ],
   "source": [
    "# Describe the Bitcoin Sentiment\n",
    "# Plot bar chart\n",
    "bitcoin_news_all_df.plot(\n",
    "    y=[\"title_sent\", \"text_sent\"],\n",
    "    kind=\"bar\",\n",
    "    title=\"Bitcoin Title and Text Sentiment Comparisson\",\n",
    "    figsize=(10, 8),\n",
    "    grid=True,\n",
    ")"
   ]
  },
  {
   "cell_type": "markdown",
   "metadata": {},
   "source": [
    "***The above bitcoin title and text sentiment chart indicates that the bitcoin sentiment changed to bearish recently***"
   ]
  },
  {
   "cell_type": "code",
   "execution_count": 241,
   "metadata": {},
   "outputs": [
    {
     "data": {
      "text/plain": [
       "<AxesSubplot:title={'center':'Ethereum Title and Text Sentiment Comparisson'}>"
      ]
     },
     "execution_count": 241,
     "metadata": {},
     "output_type": "execute_result"
    },
    {
     "data": {
      "image/png": "[encoded data removed]",
      "text/plain": [
       "<Figure size 720x576 with 1 Axes>"
      ]
     },
     "metadata": {
      "needs_background": "light"
     },
     "output_type": "display_data"
    }
   ],
   "source": [
    "# Describe the Ethereum Sentiment\n",
    "# Plot bar chart\n",
    "ethereum_news_all_df.plot(\n",
    "    y=[\"title_sent\", \"text_sent\"],\n",
    "    kind=\"bar\",\n",
    "    title=\"Ethereum Title and Text Sentiment Comparisson\",\n",
    "    figsize=(10, 8),\n",
    "    grid=True,\n",
    ")"
   ]
  },
  {
   "cell_type": "code",
   "execution_count": 248,
   "metadata": {},
   "outputs": [
    {
     "data": {
      "text/html": [
       "<div>\n",
       "<style scoped>\n",
       "    .dataframe tbody tr th:only-of-type {\n",
       "        vertical-align: middle;\n",
       "    }\n",
       "\n",
       "    .dataframe tbody tr th {\n",
       "        vertical-align: top;\n",
       "    }\n",
       "\n",
       "    .dataframe thead th {\n",
       "        text-align: right;\n",
       "    }\n",
       "</style>\n",
       "<table border=\"1\" class=\"dataframe\">\n",
       "  <thead>\n",
       "    <tr style=\"text-align: right;\">\n",
       "      <th></th>\n",
       "      <th>bitcoin</th>\n",
       "      <th>ethereum</th>\n",
       "    </tr>\n",
       "  </thead>\n",
       "  <tbody>\n",
       "    <tr>\n",
       "      <th>max_coin_title_compound_score</th>\n",
       "      <td>0.340000</td>\n",
       "      <td>0.340000</td>\n",
       "    </tr>\n",
       "    <tr>\n",
       "      <th>max_coin_text_compound_score</th>\n",
       "      <td>0.865500</td>\n",
       "      <td>0.865500</td>\n",
       "    </tr>\n",
       "    <tr>\n",
       "      <th>max_coin_title_positive_score</th>\n",
       "      <td>0.255000</td>\n",
       "      <td>0.255000</td>\n",
       "    </tr>\n",
       "    <tr>\n",
       "      <th>max_coin_text_positive_score</th>\n",
       "      <td>0.263000</td>\n",
       "      <td>0.263000</td>\n",
       "    </tr>\n",
       "    <tr>\n",
       "      <th>mean_coin_title_positive_score</th>\n",
       "      <td>0.056243</td>\n",
       "      <td>0.068103</td>\n",
       "    </tr>\n",
       "    <tr>\n",
       "      <th>mean_coin_text_positive_score</th>\n",
       "      <td>0.072784</td>\n",
       "      <td>0.066862</td>\n",
       "    </tr>\n",
       "  </tbody>\n",
       "</table>\n",
       "</div>"
      ],
      "text/plain": [
       "                                 bitcoin  ethereum\n",
       "max_coin_title_compound_score   0.340000  0.340000\n",
       "max_coin_text_compound_score    0.865500  0.865500\n",
       "max_coin_title_positive_score   0.255000  0.255000\n",
       "max_coin_text_positive_score    0.263000  0.263000\n",
       "mean_coin_title_positive_score  0.056243  0.068103\n",
       "mean_coin_text_positive_score   0.072784  0.066862"
      ]
     },
     "execution_count": 248,
     "metadata": {},
     "output_type": "execute_result"
    }
   ],
   "source": [
    "bitcoin_scores = get_scores(bitcoin_news_all_df,'bitcoin')\n",
    "#print(bitcoin_scores)\n",
    "#bitcoin_scores_df = pd.DataFrame.from_dict(bitcoin_scores)\n",
    "#bitcoin_scores_df.head()\n",
    "\n",
    "eth_scores = get_scores(ethereum_news_all_df,'ethereium')\n",
    "#print(eth_scores)\n",
    "\n",
    "coin_scores={}\n",
    "coin_scores['bitcoin']=bitcoin_scores\n",
    "coin_scores['ethereum']=eth_scores\n",
    "\n",
    "coin_scores_df = pd.DataFrame.from_dict(coin_scores)\n",
    "coin_scores_df"
   ]
  },
  {
   "cell_type": "markdown",
   "metadata": {},
   "source": [
    "***The above ethereum title and text sentiment chart indicates that the ethereum sentiment changed to bearish recently***"
   ]
  },
  {
   "cell_type": "markdown",
   "metadata": {},
   "source": [
    "### Questions:\n",
    "\n",
    "Q: Which coin had the highest mean positive score?\n",
    "\n",
    "A: ***As per the mean positive scores for title is higher for ethereum, where mean positive score for text is higher for bitcoin***\n",
    "\n",
    "Q: Which coin had the highest compound score?\n",
    "\n",
    "A: ***As per the mean positive scores for title and text, both bitcoin and ethereium have same  compound score***\n",
    "\n",
    "Q. Which coin had the highest positive score?\n",
    "\n",
    "A: ***As per the mean positive scores for title and text, both bitcoin and ethereium have same highest positive score***\n",
    "\n",
    "***In general, as per the latest news from 2022, the sentiment analysis for both coin is highly corelated***"
   ]
  },
  {
   "cell_type": "markdown",
   "metadata": {},
   "source": [
    "---"
   ]
  },
  {
   "cell_type": "markdown",
   "metadata": {},
   "source": [
    "## 2. Natural Language Processing\n",
    "---\n",
    "###   Tokenizer\n",
    "\n",
    "In this section, you will use NLTK and Python to tokenize the text for each coin. Be sure to:\n",
    "1. Lowercase each word.\n",
    "2. Remove Punctuation.\n",
    "3. Remove Stopwords."
   ]
  },
  {
   "cell_type": "code",
   "execution_count": null,
   "metadata": {},
   "outputs": [],
   "source": []
  },
  {
   "cell_type": "code",
   "execution_count": 255,
   "metadata": {},
   "outputs": [],
   "source": [
    "# Instantiate the lemmatizer\n",
    "lemmatizer = WordNetLemmatizer()\n",
    "\n",
    "# Create a list of stopwords\n",
    "sw_en = set(stopwords.words('english'))\n",
    "sw_fr = set(stopwords.words('french'))\n",
    "# Expand the default stopwords list if necessary\n",
    "#The news articles from english and french are combined\n",
    "sw = sw_en.union(sw_fr)"
   ]
  },
  {
   "cell_type": "code",
   "execution_count": 256,
   "metadata": {},
   "outputs": [
    {
     "name": "stdout",
     "output_type": "stream",
     "text": [
      "['bitcoin', 'mining', 'site', 'powered', 'otherwise', 'lost', 'gas', 'oil', 'well', 'near', 'linden', 'texas', 'april', 'th', 'photo', 'francois', 'picardafp', 'via', 'getty', 'images', 'corporate', 'climate', 'hype', 'fl', 'char', 'disclosure', 'hold', 'short', 'position', 'company', 'mentioned', 'article', 'financial', 'advicesix', 'month', 'ago', 'wrotebitcoin', 'miner', 'burn', 'enormous', 'amount', 'capital', 'capture', 'char']\n"
     ]
    }
   ],
   "source": [
    "# Complete the tokenizer function\n",
    "def tokenizer(text):\n",
    "    \"\"\"Tokenizes text.\"\"\"\n",
    "    # Remove the punctuation from text\n",
    "    regex = re.compile(\"[^a-zA-Z ]\")\n",
    "    re_clean = regex.sub('', text)\n",
    "    # Create a tokenized list of the words\n",
    "    words = word_tokenize(re_clean)\n",
    "    # Lemmatize words into root words\n",
    "    lem = [lemmatizer.lemmatize(word) for word in words]\n",
    "    # Convert the words to lowercase\n",
    "    # Remove the stop words\n",
    "    tokens = [word.lower() for word in lem if word.lower() not in sw]\n",
    "    return tokens\n",
    "\n",
    "big_string = ' '.join(bitcoin_news_all_df[\"text\"][0])\n",
    "#print(big_string)\n",
    "\n",
    "tokens = tokenizer(big_string)\n",
    "print(tokens)"
   ]
  },
  {
   "cell_type": "code",
   "execution_count": 257,
   "metadata": {},
   "outputs": [
    {
     "data": {
      "text/html": [
       "<div>\n",
       "<style scoped>\n",
       "    .dataframe tbody tr th:only-of-type {\n",
       "        vertical-align: middle;\n",
       "    }\n",
       "\n",
       "    .dataframe tbody tr th {\n",
       "        vertical-align: top;\n",
       "    }\n",
       "\n",
       "    .dataframe thead th {\n",
       "        text-align: right;\n",
       "    }\n",
       "</style>\n",
       "<table border=\"1\" class=\"dataframe\">\n",
       "  <thead>\n",
       "    <tr style=\"text-align: right;\">\n",
       "      <th></th>\n",
       "      <th>title</th>\n",
       "      <th>description</th>\n",
       "      <th>text</th>\n",
       "      <th>date</th>\n",
       "      <th>language</th>\n",
       "      <th>title_compound</th>\n",
       "      <th>title_pos</th>\n",
       "      <th>title_neu</th>\n",
       "      <th>title_neg</th>\n",
       "      <th>title_sent</th>\n",
       "      <th>text_compound</th>\n",
       "      <th>text_pos</th>\n",
       "      <th>text_neu</th>\n",
       "      <th>text_neg</th>\n",
       "      <th>text_sent</th>\n",
       "      <th>tokens</th>\n",
       "    </tr>\n",
       "  </thead>\n",
       "  <tbody>\n",
       "    <tr>\n",
       "      <th>0</th>\n",
       "      <td>Why fossil fuel companies see green in Bitcoin...</td>\n",
       "      <td>ExxonMobil and other fossil fuel companies hav...</td>\n",
       "      <td>A Bitcoin mining site powered by otherwise los...</td>\n",
       "      <td>2022-05-04</td>\n",
       "      <td>en</td>\n",
       "      <td>0.00</td>\n",
       "      <td>0.000</td>\n",
       "      <td>1.000</td>\n",
       "      <td>0.0</td>\n",
       "      <td>0</td>\n",
       "      <td>-0.0516</td>\n",
       "      <td>0.056</td>\n",
       "      <td>0.882</td>\n",
       "      <td>0.061</td>\n",
       "      <td>-1</td>\n",
       "      <td>[bitcoin, mining, site, powered, otherwise, lo...</td>\n",
       "    </tr>\n",
       "    <tr>\n",
       "      <th>0</th>\n",
       "      <td>The Problem with Bitcoin Miners</td>\n",
       "      <td>Comments</td>\n",
       "      <td>Disclosure: I hold short positions in companie...</td>\n",
       "      <td>2022-05-15</td>\n",
       "      <td>fr</td>\n",
       "      <td>0.00</td>\n",
       "      <td>0.000</td>\n",
       "      <td>1.000</td>\n",
       "      <td>0.0</td>\n",
       "      <td>0</td>\n",
       "      <td>-0.0516</td>\n",
       "      <td>0.056</td>\n",
       "      <td>0.882</td>\n",
       "      <td>0.061</td>\n",
       "      <td>-1</td>\n",
       "      <td>[disclosure, hold, short, position, company, m...</td>\n",
       "    </tr>\n",
       "    <tr>\n",
       "      <th>1</th>\n",
       "      <td>What is Blockchain: Everything You Need to Kno...</td>\n",
       "      <td>&lt;table&gt;&lt;tr&gt;&lt;td&gt;&lt;/td&gt;&lt;/tr&gt;&lt;tr&gt;&lt;td&gt;&lt;/td&gt;&lt;/tr&gt;\\r\\...</td>\n",
       "      <td>If you want to pay online, you need to registe...</td>\n",
       "      <td>2022-04-18</td>\n",
       "      <td>en</td>\n",
       "      <td>0.00</td>\n",
       "      <td>0.000</td>\n",
       "      <td>1.000</td>\n",
       "      <td>0.0</td>\n",
       "      <td>0</td>\n",
       "      <td>0.5719</td>\n",
       "      <td>0.157</td>\n",
       "      <td>0.775</td>\n",
       "      <td>0.068</td>\n",
       "      <td>1</td>\n",
       "      <td>[want, pay, online, need, register, account, p...</td>\n",
       "    </tr>\n",
       "    <tr>\n",
       "      <th>1</th>\n",
       "      <td>L’âge d’or du cinéma n’est plus, place à l’âge...</td>\n",
       "      <td>L’une des plus grandes chaînes de salles de ci...</td>\n",
       "      <td>AMC peut remercier les boursicoteurs, qui lui ...</td>\n",
       "      <td>2022-04-19</td>\n",
       "      <td>fr</td>\n",
       "      <td>0.00</td>\n",
       "      <td>0.000</td>\n",
       "      <td>1.000</td>\n",
       "      <td>0.0</td>\n",
       "      <td>0</td>\n",
       "      <td>0.5719</td>\n",
       "      <td>0.157</td>\n",
       "      <td>0.775</td>\n",
       "      <td>0.068</td>\n",
       "      <td>1</td>\n",
       "      <td>[amc, peut, remercier, boursicoteurs, permis, ...</td>\n",
       "    </tr>\n",
       "    <tr>\n",
       "      <th>2</th>\n",
       "      <td>Bitcoin value drops by 50% since November peak</td>\n",
       "      <td>The slide in the value of cryptocurrencies com...</td>\n",
       "      <td>Image source, Getty Images\\r\\nThe value of Bit...</td>\n",
       "      <td>2022-05-09</td>\n",
       "      <td>en</td>\n",
       "      <td>0.34</td>\n",
       "      <td>0.255</td>\n",
       "      <td>0.745</td>\n",
       "      <td>0.0</td>\n",
       "      <td>1</td>\n",
       "      <td>0.3400</td>\n",
       "      <td>0.072</td>\n",
       "      <td>0.928</td>\n",
       "      <td>0.000</td>\n",
       "      <td>1</td>\n",
       "      <td>[image, source, getty, imagesthe, value, bitco...</td>\n",
       "    </tr>\n",
       "  </tbody>\n",
       "</table>\n",
       "</div>"
      ],
      "text/plain": [
       "                                               title  \\\n",
       "0  Why fossil fuel companies see green in Bitcoin...   \n",
       "0                    The Problem with Bitcoin Miners   \n",
       "1  What is Blockchain: Everything You Need to Kno...   \n",
       "1  L’âge d’or du cinéma n’est plus, place à l’âge...   \n",
       "2     Bitcoin value drops by 50% since November peak   \n",
       "\n",
       "                                         description  \\\n",
       "0  ExxonMobil and other fossil fuel companies hav...   \n",
       "0                                           Comments   \n",
       "1  <table><tr><td></td></tr><tr><td></td></tr>\\r\\...   \n",
       "1  L’une des plus grandes chaînes de salles de ci...   \n",
       "2  The slide in the value of cryptocurrencies com...   \n",
       "\n",
       "                                                text        date language  \\\n",
       "0  A Bitcoin mining site powered by otherwise los...  2022-05-04       en   \n",
       "0  Disclosure: I hold short positions in companie...  2022-05-15       fr   \n",
       "1  If you want to pay online, you need to registe...  2022-04-18       en   \n",
       "1  AMC peut remercier les boursicoteurs, qui lui ...  2022-04-19       fr   \n",
       "2  Image source, Getty Images\\r\\nThe value of Bit...  2022-05-09       en   \n",
       "\n",
       "   title_compound  title_pos  title_neu  title_neg  title_sent  text_compound  \\\n",
       "0            0.00      0.000      1.000        0.0           0        -0.0516   \n",
       "0            0.00      0.000      1.000        0.0           0        -0.0516   \n",
       "1            0.00      0.000      1.000        0.0           0         0.5719   \n",
       "1            0.00      0.000      1.000        0.0           0         0.5719   \n",
       "2            0.34      0.255      0.745        0.0           1         0.3400   \n",
       "\n",
       "   text_pos  text_neu  text_neg  text_sent  \\\n",
       "0     0.056     0.882     0.061         -1   \n",
       "0     0.056     0.882     0.061         -1   \n",
       "1     0.157     0.775     0.068          1   \n",
       "1     0.157     0.775     0.068          1   \n",
       "2     0.072     0.928     0.000          1   \n",
       "\n",
       "                                              tokens  \n",
       "0  [bitcoin, mining, site, powered, otherwise, lo...  \n",
       "0  [disclosure, hold, short, position, company, m...  \n",
       "1  [want, pay, online, need, register, account, p...  \n",
       "1  [amc, peut, remercier, boursicoteurs, permis, ...  \n",
       "2  [image, source, getty, imagesthe, value, bitco...  "
      ]
     },
     "execution_count": 257,
     "metadata": {},
     "output_type": "execute_result"
    }
   ],
   "source": [
    "# Create a new tokens column for Bitcoin\n",
    "def generate_tokens(df):\n",
    "    list_tokens=[]\n",
    "    for row in df[\"text\"]:\n",
    "        tokens = tokenizer(row)\n",
    "        list_tokens.append(tokens)\n",
    "    return list_tokens\n",
    "\n",
    "bitcoin_tokens = generate_tokens(bitcoin_news_all_df)\n",
    "bitcoin_news_all_df['tokens'] = bitcoin_tokens\n",
    "bitcoin_news_all_df.head()"
   ]
  },
  {
   "cell_type": "code",
   "execution_count": 258,
   "metadata": {},
   "outputs": [
    {
     "data": {
      "text/html": [
       "<div>\n",
       "<style scoped>\n",
       "    .dataframe tbody tr th:only-of-type {\n",
       "        vertical-align: middle;\n",
       "    }\n",
       "\n",
       "    .dataframe tbody tr th {\n",
       "        vertical-align: top;\n",
       "    }\n",
       "\n",
       "    .dataframe thead th {\n",
       "        text-align: right;\n",
       "    }\n",
       "</style>\n",
       "<table border=\"1\" class=\"dataframe\">\n",
       "  <thead>\n",
       "    <tr style=\"text-align: right;\">\n",
       "      <th></th>\n",
       "      <th>title</th>\n",
       "      <th>description</th>\n",
       "      <th>text</th>\n",
       "      <th>date</th>\n",
       "      <th>language</th>\n",
       "      <th>title_compound</th>\n",
       "      <th>title_pos</th>\n",
       "      <th>title_neu</th>\n",
       "      <th>title_neg</th>\n",
       "      <th>title_sent</th>\n",
       "      <th>text_compound</th>\n",
       "      <th>text_pos</th>\n",
       "      <th>text_neu</th>\n",
       "      <th>text_neg</th>\n",
       "      <th>text_sent</th>\n",
       "      <th>tokens</th>\n",
       "    </tr>\n",
       "  </thead>\n",
       "  <tbody>\n",
       "    <tr>\n",
       "      <th>0</th>\n",
       "      <td>What is Blockchain: Everything You Need to Kno...</td>\n",
       "      <td>&lt;table&gt;&lt;tr&gt;&lt;td&gt;&lt;/td&gt;&lt;/tr&gt;&lt;tr&gt;&lt;td&gt;&lt;/td&gt;&lt;/tr&gt;\\r\\...</td>\n",
       "      <td>If you want to pay online, you need to registe...</td>\n",
       "      <td>2022-04-18</td>\n",
       "      <td>en</td>\n",
       "      <td>0.00</td>\n",
       "      <td>0.000</td>\n",
       "      <td>1.000</td>\n",
       "      <td>0.0</td>\n",
       "      <td>0</td>\n",
       "      <td>-0.0516</td>\n",
       "      <td>0.056</td>\n",
       "      <td>0.882</td>\n",
       "      <td>0.061</td>\n",
       "      <td>-1</td>\n",
       "      <td>[want, pay, online, need, register, account, p...</td>\n",
       "    </tr>\n",
       "    <tr>\n",
       "      <th>0</th>\n",
       "      <td>L’âge d’or du cinéma n’est plus, place à l’âge...</td>\n",
       "      <td>L’une des plus grandes chaînes de salles de ci...</td>\n",
       "      <td>AMC peut remercier les boursicoteurs, qui lui ...</td>\n",
       "      <td>2022-04-19</td>\n",
       "      <td>fr</td>\n",
       "      <td>0.00</td>\n",
       "      <td>0.000</td>\n",
       "      <td>1.000</td>\n",
       "      <td>0.0</td>\n",
       "      <td>0</td>\n",
       "      <td>-0.0516</td>\n",
       "      <td>0.056</td>\n",
       "      <td>0.882</td>\n",
       "      <td>0.061</td>\n",
       "      <td>-1</td>\n",
       "      <td>[amc, peut, remercier, boursicoteurs, permis, ...</td>\n",
       "    </tr>\n",
       "    <tr>\n",
       "      <th>1</th>\n",
       "      <td>How Bored Ape Yacht Club Broke Ethereum - CNET</td>\n",
       "      <td>Transactions stalled for hours, and people pai...</td>\n",
       "      <td>When Bored Ape Yacht Club creators Yuga Labs a...</td>\n",
       "      <td>2022-05-04</td>\n",
       "      <td>en</td>\n",
       "      <td>0.00</td>\n",
       "      <td>0.000</td>\n",
       "      <td>1.000</td>\n",
       "      <td>0.0</td>\n",
       "      <td>0</td>\n",
       "      <td>0.5719</td>\n",
       "      <td>0.157</td>\n",
       "      <td>0.775</td>\n",
       "      <td>0.068</td>\n",
       "      <td>1</td>\n",
       "      <td>[bored, ape, yacht, club, creator, yuga, labs,...</td>\n",
       "    </tr>\n",
       "    <tr>\n",
       "      <th>1</th>\n",
       "      <td>Ne vous tatouez pas votre crypto préférée, vou...</td>\n",
       "      <td>Ce milliardaire américain a eu la mauvaise idé...</td>\n",
       "      <td>Mike Novogratz est l’une des figures emblémati...</td>\n",
       "      <td>2022-05-15</td>\n",
       "      <td>fr</td>\n",
       "      <td>0.00</td>\n",
       "      <td>0.000</td>\n",
       "      <td>1.000</td>\n",
       "      <td>0.0</td>\n",
       "      <td>0</td>\n",
       "      <td>0.5719</td>\n",
       "      <td>0.157</td>\n",
       "      <td>0.775</td>\n",
       "      <td>0.068</td>\n",
       "      <td>1</td>\n",
       "      <td>[mike, novogratz, lune, figure, emblmatiques, ...</td>\n",
       "    </tr>\n",
       "    <tr>\n",
       "      <th>2</th>\n",
       "      <td>Yuga Labs apologises after sale of virtual lan...</td>\n",
       "      <td>Demand for plots of land in multiplayer game O...</td>\n",
       "      <td>A multi-billion dollar cryptocurrency company ...</td>\n",
       "      <td>2022-05-02</td>\n",
       "      <td>en</td>\n",
       "      <td>0.34</td>\n",
       "      <td>0.255</td>\n",
       "      <td>0.745</td>\n",
       "      <td>0.0</td>\n",
       "      <td>1</td>\n",
       "      <td>0.3400</td>\n",
       "      <td>0.072</td>\n",
       "      <td>0.928</td>\n",
       "      <td>0.000</td>\n",
       "      <td>1</td>\n",
       "      <td>[multibillion, dollar, cryptocurrency, company...</td>\n",
       "    </tr>\n",
       "  </tbody>\n",
       "</table>\n",
       "</div>"
      ],
      "text/plain": [
       "                                               title  \\\n",
       "0  What is Blockchain: Everything You Need to Kno...   \n",
       "0  L’âge d’or du cinéma n’est plus, place à l’âge...   \n",
       "1     How Bored Ape Yacht Club Broke Ethereum - CNET   \n",
       "1  Ne vous tatouez pas votre crypto préférée, vou...   \n",
       "2  Yuga Labs apologises after sale of virtual lan...   \n",
       "\n",
       "                                         description  \\\n",
       "0  <table><tr><td></td></tr><tr><td></td></tr>\\r\\...   \n",
       "0  L’une des plus grandes chaînes de salles de ci...   \n",
       "1  Transactions stalled for hours, and people pai...   \n",
       "1  Ce milliardaire américain a eu la mauvaise idé...   \n",
       "2  Demand for plots of land in multiplayer game O...   \n",
       "\n",
       "                                                text        date language  \\\n",
       "0  If you want to pay online, you need to registe...  2022-04-18       en   \n",
       "0  AMC peut remercier les boursicoteurs, qui lui ...  2022-04-19       fr   \n",
       "1  When Bored Ape Yacht Club creators Yuga Labs a...  2022-05-04       en   \n",
       "1  Mike Novogratz est l’une des figures emblémati...  2022-05-15       fr   \n",
       "2  A multi-billion dollar cryptocurrency company ...  2022-05-02       en   \n",
       "\n",
       "   title_compound  title_pos  title_neu  title_neg  title_sent  text_compound  \\\n",
       "0            0.00      0.000      1.000        0.0           0        -0.0516   \n",
       "0            0.00      0.000      1.000        0.0           0        -0.0516   \n",
       "1            0.00      0.000      1.000        0.0           0         0.5719   \n",
       "1            0.00      0.000      1.000        0.0           0         0.5719   \n",
       "2            0.34      0.255      0.745        0.0           1         0.3400   \n",
       "\n",
       "   text_pos  text_neu  text_neg  text_sent  \\\n",
       "0     0.056     0.882     0.061         -1   \n",
       "0     0.056     0.882     0.061         -1   \n",
       "1     0.157     0.775     0.068          1   \n",
       "1     0.157     0.775     0.068          1   \n",
       "2     0.072     0.928     0.000          1   \n",
       "\n",
       "                                              tokens  \n",
       "0  [want, pay, online, need, register, account, p...  \n",
       "0  [amc, peut, remercier, boursicoteurs, permis, ...  \n",
       "1  [bored, ape, yacht, club, creator, yuga, labs,...  \n",
       "1  [mike, novogratz, lune, figure, emblmatiques, ...  \n",
       "2  [multibillion, dollar, cryptocurrency, company...  "
      ]
     },
     "execution_count": 258,
     "metadata": {},
     "output_type": "execute_result"
    }
   ],
   "source": [
    "# Create a new tokens column for Ethereum\n",
    "ethereum_tokens = generate_tokens(ethereum_news_all_df)\n",
    "ethereum_news_all_df['tokens'] = ethereum_tokens\n",
    "ethereum_news_all_df.head()"
   ]
  },
  {
   "cell_type": "markdown",
   "metadata": {},
   "source": [
    "---"
   ]
  },
  {
   "cell_type": "markdown",
   "metadata": {},
   "source": [
    "### NGrams and Frequency Analysis\n",
    "\n",
    "In this section you will look at the ngrams and word frequency for each coin. \n",
    "\n",
    "1. Use NLTK to produce the n-grams for N = 2. \n",
    "2. List the top 10 words for each coin. "
   ]
  },
  {
   "cell_type": "code",
   "execution_count": 259,
   "metadata": {},
   "outputs": [],
   "source": [
    "def get_big_token_string(df):\n",
    "    big_str=''\n",
    "    for row in df[\"tokens\"]:\n",
    "        list_string = ' '.join(row)\n",
    "        big_str = big_str + list_string\n",
    "    return big_str\n",
    "\n"
   ]
  },
  {
   "cell_type": "code",
   "execution_count": 260,
   "metadata": {},
   "outputs": [
    {
     "name": "stdout",
     "output_type": "stream",
     "text": [
      "{('bitcoin', 'mining'): 3, ('mining', 'site'): 1, ('site', 'powered'): 1, ('powered', 'otherwise'): 1, ('otherwise', 'lost'): 1, ('lost', 'gas'): 1, ('gas', 'oil'): 1, ('oil', 'well'): 1, ('well', 'near'): 1, ('near', 'linden'): 1, ('linden', 'texas'): 1, ('texas', 'april'): 1, ('april', 'th'): 1, ('th', 'photo'): 1, ('photo', 'francois'): 1, ('francois', 'picardafp'): 1, ('picardafp', 'via'): 1, ('via', 'getty'): 1, ('getty', 'images'): 1, ('images', 'corporate'): 1, ('corporate', 'climate'): 1, ('climate', 'hype'): 1, ('hype', 'fl'): 1, ('fl', 'chardisclosure'): 1, ('chardisclosure', 'hold'): 1, ('hold', 'short'): 1, ('short', 'position'): 1, ('position', 'company'): 1, ('company', 'mentioned'): 1, ('mentioned', 'article'): 1, ('article', 'financial'): 1, ('financial', 'advicesix'): 1, ('advicesix', 'month'): 1, ('month', 'ago'): 1, ('ago', 'wrotebitcoin'): 1, ('wrotebitcoin', 'miner'): 1, ('miner', 'burn'): 1, ('burn', 'enormous'): 1, ('enormous', 'amount'): 1, ('amount', 'capital'): 1, ('capital', 'capture'): 1, ('capture', 'charwant'): 1, ('charwant', 'pay'): 1, ('pay', 'online'): 1, ('online', 'need'): 1, ('need', 'register'): 1, ('register', 'account'): 1, ('account', 'provide'): 1, ('provide', 'credit'): 1, ('credit', 'card'): 2, ('card', 'information'): 1, ('information', 'dont'): 1, ('dont', 'credit'): 1, ('card', 'pay'): 1, ('pay', 'bank'): 1, ('bank', 'transfer'): 1, ('transfer', 'rise'): 1, ('rise', 'cryptocurrencies'): 1, ('cryptocurrencies', 'charamc'): 1, ('charamc', 'peut'): 1, ('peut', 'remercier'): 1, ('remercier', 'boursicoteurs'): 1, ('boursicoteurs', 'permis'): 1, ('permis', 'voir'): 1, ('voir', 'cours'): 1, ('cours', 'senvoler'): 1, ('senvoler', 'bourse'): 1, ('bourse', 'depuis'): 1, ('depuis', 'plus'): 1, ('plus', 'dun'): 1, ('dun', 'grce'): 1, ('grce', 'phnomne'): 1, ('phnomne', 'gamestop'): 1, ('gamestop', 'wallstreetbets'): 1, ('wallstreetbets', 'reddit'): 1, ('reddit', 'lre'): 1, ('lre', 'meme'): 1, ('meme', 'stock'): 1, ('stock', 'charimage'): 1, ('charimage', 'source'): 1, ('source', 'getty'): 1, ('getty', 'imagesthe'): 1, ('imagesthe', 'value'): 1, ('value', 'bitcoin'): 1, ('bitcoin', 'continued'): 1, ('continued', 'fall'): 1, ('fall', 'weekend'): 1, ('weekend', 'dropped'): 1, ('dropped', 'according'): 1, ('according', 'coinbase'): 1, ('coinbase', 'cryptocurrency'): 1, ('cryptocurrency', 'exchangethe'): 1, ('exchangethe', 'world'): 1, ('world', 'largest'): 2, ('largest', 'cryp'): 1, ('cryp', 'charedward'): 1, ('charedward', 'snowden'): 1, ('snowden', 'ancien'): 1, ('ancien', 'employ'): 1, ('employ', 'cia'): 1, ('cia', 'sort'): 1, ('sort', 'nouvelle'): 1, ('nouvelle', 'fois'): 1, ('fois', 'lombre'): 1, ('lombre', 'rvlation'): 1, ('rvlation', 'fracassante'): 1, ('fracassante', 'confrres'): 1, ('confrres', 'forbes'): 1, ('forbes', 'dvoil'): 1, ('dvoil', 'clbre'): 1, ('clbre', 'lanceur'): 1, ('lanceur', 'dalerte'): 1, ('dalerte', 'aussi'): 1, ('aussi', 'lun'): 1, ('lun', 'si'): 1, ('si', 'charmay'): 1, ('charmay', 'reuters'): 2, ('reuters', 'meltdown'): 1, ('meltdown', 'one'): 1, ('one', 'world'): 1, ('largest', 'stablecoins'): 1, ('stablecoins', 'terrausd'): 1, ('terrausd', 'sent'): 1, ('sent', 'shockwaves'): 1, ('shockwaves', 'cryptocurrency'): 1, ('cryptocurrency', 'market'): 1, ('market', 'thursday'): 1, ('thursday', 'wiping'): 1, ('wiping', 'bitcoins'): 1, ('bitcoins', 'gain'): 1, ('gain', 'sending'): 1, ('sending', 'charmike'): 1, ('charmike', 'novogratz'): 1, ('novogratz', 'lune'): 1, ('lune', 'figure'): 1, ('figure', 'emblmatiques'): 1, ('emblmatiques', 'lunivers'): 1, ('lunivers', 'crypto'): 1, ('crypto', 'ancien'): 1, ('ancien', 'grant'): 1, ('grant', 'dactif'): 1, ('dactif', 'chez'): 1, ('chez', 'goldman'): 1, ('goldman', 'sachs'): 1, ('sachs', 'dsormais'): 1, ('dsormais', 'ceo'): 1, ('ceo', 'galaxy'): 1, ('galaxy', 'digital'): 1, ('digital', 'connu'): 1, ('connu', 'tre'): 1, ('tre', 'avoir'): 1, ('avoir', 'lun'): 1, ('lun', 'plus'): 1, ('plus', 'charwhats'): 1, ('charwhats', 'happening'): 2, ('happening', 'blockchain'): 2, ('blockchain', 'industry'): 2, ('industry', 'year'): 2, ('year', 'bitcoin'): 2, ('bitcoin', 'react'): 2, ('react', 'return'): 2, ('return', 'inflation'): 2, ('inflation', 'cryptocurrencies'): 2, ('cryptocurrencies', 'offer'): 2, ('offer', 'banking'): 2, ('banking', 'future'): 2, ('future', 'nfts'): 2, ('nfts', 'metaversea'): 2, ('metaversea', 'chardollar'): 1, ('chardollar', 'plus'): 1, ('plus', 'ba'): 1, ('ba', 'mardi'): 1, ('mardi', 'bitcoin'): 1, ('bitcoin', 'schangeait'): 1, ('schangeait', 'niveau'): 1, ('niveau', 'plus'): 1, ('plus', 'vu'): 1, ('vu', 'depuis'): 1, ('depuis', 'juillet'): 1, ('juillet', 'recul'): 1, ('recul', 'rapport'): 1, ('rapport', 'record'): 1, ('record', 'historique'): 1, ('historique', 'atteint'): 1, ('atteint', 'novembre'): 1, ('novembre', 'dgringolade'): 1, ('dgringolade', 'q'): 1, ('q', 'charwhats'): 1, ('metaversea', 'charlinstar'): 1, ('charlinstar', 'meta'): 1, ('meta', 'propritaire'): 1, ('propritaire', 'whatsapp'): 1, ('whatsapp', 'telegram'): 1, ('telegram', 'sintresse'): 1, ('sintresse', 'cryptos'): 1, ('cryptos', 'dailleurs'): 1, ('dailleurs', 'lentreprise'): 1, ('lentreprise', 'projet'): 1, ('projet', 'crypto'): 1, ('crypto', 'baptis'): 1, ('baptis', 'telegram'): 1, ('telegram', 'open'): 1, ('open', 'network'): 1, ('network', 'celleci'): 1, ('celleci', 'finalement'): 1, ('finalement', 'chareditorial'): 1, ('chareditorial', 'independencewe'): 1, ('independencewe', 'want'): 1, ('want', 'help'): 1, ('help', 'make'): 1, ('make', 'informed'): 1, ('informed', 'decision'): 1, ('decision', 'link'): 1, ('link', 'page'): 1, ('page', 'clearly'): 1, ('clearly', 'marked'): 1, ('marked', 'may'): 1, ('may', 'take'): 1, ('take', 'partner'): 1, ('partner', 'website'): 1, ('website', 'may'): 1, ('may', 'result'): 1, ('result', 'u'): 1, ('u', 'earning'): 1, ('earning', 'referral'): 1, ('referral', 'commission'): 1, ('commission', 'fo'): 1, ('fo', 'charbitcoin'): 1, ('charbitcoin', 'principale'): 2, ('principale', 'cryptomonnaie'): 3, ('cryptomonnaie', 'vu'): 3, ('vu', 'gain'): 3, ('gain', 'derniers'): 3, ('derniers', 'mois'): 3, ('mois', 'svaporer'): 3, ('svaporer', 'mai'): 2, ('mai', 'prix'): 2, ('prix', 'retomber'): 3, ('retomber', 'brivement'): 2, ('brivement', 'mardi'): 2, ('mardi', 'sou'): 2, ('sou', 'dollar'): 3, ('dollar', 'investisseurs'): 3, ('investisseurs', 'fuyant'): 3, ('fuyant', 'actifs'): 2, ('actifs', 'risque'): 2, ('risque', 'dan'): 1, ('dan', 'charmay'): 1, ('reuters', 'block'): 1, ('block', 'inc'): 1, ('inc', 'sqn'): 1, ('sqn', 'payment'): 1, ('payment', 'company'): 1, ('company', 'led'): 1, ('led', 'jack'): 1, ('jack', 'dorsey'): 1, ('dorsey', 'thursday'): 1, ('thursday', 'reported'): 1, ('reported', 'loss'): 1, ('loss', 'first'): 1, ('first', 'quarter'): 1, ('quarter', 'demand'): 1, ('demand', 'bitcoin'): 1, ('bitcoin', 'softened'): 1, ('softened', 'due'): 1, ('due', 'decline'): 1, ('decline', 'cryptocurrency'): 1, ('cryptocurrency', 'price'): 1, ('price', 'charpaiements'): 1, ('charpaiements', 'crypto'): 1, ('crypto', 'dmocratisent'): 1, ('dmocratisent', 'chez'): 1, ('chez', 'chane'): 1, ('chane', 'cinma'): 1, ('cinma', 'amc'): 1, ('amc', 'initiative'): 1, ('initiative', 'autour'): 1, ('autour', 'nft'): 1, ('nft', 'multiplientles'): 1, ('multiplientles', 'cinmas'): 1, ('cinmas', 'amc'): 1, ('amc', 'chane'): 1, ('chane', 'incontournable'): 1, ('incontournable', 'tatsunis'): 1, ('tatsunis', 'notamment'): 1, ('notamment', 'p'): 1, ('p', 'charlondon'): 1, ('charlondon', 'may'): 1, ('may', 'reuters'): 2, ('reuters', 'breakingviews'): 2, ('breakingviews', 'bitcoins'): 1, ('bitcoins', 'latest'): 1, ('latest', 'fan'): 1, ('fan', 'far'): 1, ('far', 'get'): 1, ('get', 'silicon'): 1, ('silicon', 'valley'): 1, ('valley', 'crypto'): 1, ('crypto', 'bros'): 1, ('bros', 'wartorn'): 1, ('wartorn', 'central'): 1, ('central', 'african'): 1, ('african', 'republic'): 1, ('republic', 'car'): 1, ('car', 'wednesday'): 1, ('wednesday', 'adopted'): 1, ('adopted', 'digital'): 1, ('digital', 'charmaintenant'): 1, ('charmaintenant', 'possible'): 1, ('possible', 'deffectuer'): 1, ('deffectuer', 'payements'): 1, ('payements', 'cryptomonnaies'): 1, ('cryptomonnaies', 'telegram'): 1, ('telegram', 'bot'): 1, ('bot', 'rcemment'): 1, ('rcemment', 'mi'): 1, ('mi', 'place'): 1, ('place', 'permet'): 1, ('permet', 'dajouter'): 1, ('dajouter', 'actifs'): 1, ('actifs', 'mme'): 1, ('mme', 'den'): 1, ('den', 'acheter'): 1, ('acheter', 'carte'): 1, ('carte', 'bancaire'): 1, ('bancaire', 'ensuite'): 1, ('ensuite', 'p'): 1, ('p', 'charexcited'): 1, ('charexcited', 'bring'): 1, ('bring', 'transform'): 1, ('transform', 'back'): 1, ('back', 'inperson'): 1, ('inperson', 'july'): 1, ('july', 'virtually'): 1, ('virtually', 'july'): 1, ('july', 'join'): 1, ('join', 'data'): 1, ('data', 'leader'): 1, ('leader', 'insightful'): 1, ('insightful', 'talk'): 1, ('talk', 'exciting'): 1, ('exciting', 'networking'): 1, ('networking', 'opportunity'): 1, ('opportunity', 'register'): 1, ('register', 'todaysome'): 1, ('todaysome', 'charbinance'): 1, ('charbinance', 'plus'): 1, ('plus', 'grande'): 1, ('grande', 'plateforme'): 1, ('plateforme', 'dchanges'): 1, ('dchanges', 'crypto'): 1, ('crypto', 'monde'): 1, ('monde', 'annonc'): 1, ('annonc', 'nuit'): 1, ('nuit', 'mai'): 1, ('mai', 'arrter'): 1, ('arrter', 'proposer'): 1, ('proposer', 'ust'): 1, ('ust', 'luna'): 1, ('luna', 'deux'): 1, ('deux', 'cryptomonnaies'): 1, ('cryptomonnaies', 'blockchain'): 1, ('blockchain', 'terra'): 1, ('terra', 'charnew'): 1, ('charnew', 'york'): 1, ('york', 'may'): 1, ('breakingviews', 'coinbase'): 1, ('coinbase', 'global'): 2, ('global', 'coino'): 1, ('coino', 'went'): 1, ('went', 'ride'): 1, ('ride', 'digital'): 1, ('digital', 'collectible'): 1, ('collectible', 'like'): 1, ('like', 'bitcoin'): 1, ('bitcoin', 'soared'): 1, ('soared', 'excitement'): 1, ('excitement', 'meant'): 1, ('meant', 'customer'): 1, ('customer', 'rising'): 1, ('rising', 'trading'): 1, ('trading', 'volume'): 1, ('volume', 'rock'): 1, ('rock', 'charcach'): 1, ('charcach', 'rapport'): 1, ('rapport', 'dcevant'): 1, ('dcevant', 'rsultats'): 1, ('rsultats', 'premier'): 1, ('premier', 'trimestre'): 1, ('trimestre', 'coinbase'): 1, ('global', 'lequel'): 1, ('lequel', 'plus'): 1, ('plus', 'grand'): 1, ('grand', 'plateforme'): 1, ('plateforme', 'dchange'): 1, ('dchange', 'cryptomonnaie'): 1, ('cryptomonnaie', 'tatsunis'): 1, ('tatsunis', 'signal'): 1, ('signal', 'perte'): 1, ('perte', 'trimestrielle'): 1, ('trimestrielle', 'charstory'): 1, ('charstory', 'part'): 1, ('part', 'taxes'): 1, ('taxes', 'cnets'): 1, ('cnets', 'coverage'): 1, ('coverage', 'best'): 1, ('best', 'tax'): 1, ('tax', 'software'): 1, ('software', 'everything'): 1, ('everything', 'else'): 1, ('else', 'need'): 1, ('need', 'get'): 1, ('get', 'return'): 1, ('return', 'filed'): 1, ('filed', 'quickly'): 1, ('quickly', 'accurately'): 1, ('accurately', 'ontimeif'): 1, ('ontimeif', 'sold'): 1, ('sold', 'traded'): 1, ('traded', 'earned'): 1, ('earned', 'mined'): 1, ('mined', 'charretenir'): 1, ('charretenir', 'cette'): 1, ('cette', 'semaine'): 1, ('semaine', 'redevance'): 1, ('redevance', 'audiovisuelle'): 1, ('audiovisuelle', 'clap'): 1, ('clap', 'fin'): 1, ('fin', 'chose'): 1, ('chose', 'promise'): 1, ('promise', 'chose'): 1, ('chose', 'due'): 1, ('due', 'emmanuel'): 1, ('emmanuel', 'macron'): 1, ('macron', 'lavait'): 1, ('lavait', 'annonc'): 1, ('annonc', 'comme'): 1, ('comme', 'lune'): 1, ('lune', 'mesures'): 1, ('mesures', 'campagne'): 1, ('campagne', 'durant'): 1, ('durant', 'priode'): 1, ('priode', 'lectorale'): 1, ('lectorale', 'suppre'): 1, ('suppre', 'charintel'): 1, ('charintel', 'launches'): 1, ('launches', 'new'): 1, ('new', 'bitcoin'): 2, ('mining', 'chip'): 2, ('chip', 'blockscaleintels'): 1, ('blockscaleintels', 'new'): 1, ('chip', 'intel'): 1, ('intel', 'blockscale'): 1, ('blockscale', 'asic'): 1, ('asic', 'ship'): 1, ('ship', 'q'): 1, ('q', 'select'): 1, ('select', 'customer'): 1, ('customer', 'bitcoin'): 1, ('bitcoin', 'magazine'): 1, ('magazine', 'april'): 1, ('april', 'stop'): 1, ('stop', 'charreine'): 1, ('charreine', 'cryptomonnaies'): 1, ('cryptomonnaies', 'sest'): 1, ('sest', 'encore'): 1, ('encore', 'lourdement'): 1, ('lourdement', 'vautre'): 1, ('vautre', 'entranant'): 1, ('entranant', 'comme'): 1, ('comme', 'toujours'): 1, ('toujours', 'reste'): 1, ('reste', 'march'): 1, ('march', 'mouvement'): 1, ('mouvement', 'malgr'): 1, ('malgr', 'milliers'): 1, ('milliers', 'milliard'): 1, ('milliard', 'dollar'): 1, ('dollar', 'perdus'): 1, ('perdus', 'culbute'): 1, ('culbute', 'charel'): 1, ('charel', 'salvador'): 1, ('salvador', 'became'): 1, ('became', 'first'): 1, ('first', 'country'): 1, ('country', 'make'): 1, ('make', 'bitcoin'): 1, ('bitcoin', 'legal'): 1, ('legal', 'tender'): 1, ('tender', 'september'): 1, ('september', 'ha'): 1, ('ha', 'lost'): 1, ('lost', 'million'): 1, ('million', 'cryptocurrency'): 1, ('cryptocurrency', 'bitcoin'): 1, ('bitcoin', 'plummeted'): 1, ('plummeted', 'alltime'): 1, ('alltime', 'high'): 1, ('high', 'thursdaypreside'): 1, ('thursdaypreside', 'charbitcoin'): 1, ('svaporer', 'prix'): 1, ('retomber', 'sou'): 1, ('risque', 'contexte'): 1, ('contexte', 'incerta'): 1, ('incerta', 'charcryptocurrency'): 1, ('charcryptocurrency', 'price'): 1, ('price', 'amid'): 1, ('amid', 'slew'): 1, ('slew', 'grim'): 1, ('grim', 'economic'): 1, ('economic', 'news'): 1, ('news', 'potential'): 1, ('potential', 'factor'): 1, ('factor', 'disparate'): 1, ('disparate', 'war'): 1, ('war', 'ukraine'): 1, ('ukraine', 'rising'): 1, ('rising', 'inflation'): 1, ('inflation', 'feds'): 1, ('feds', 'corresponding'): 1, ('corresponding', 'interest'): 1, ('interest', 'rate'): 1, ('rate', 'hike'): 1, ('hike', 'pric'): 1, ('pric', 'charlun'): 1, ('charlun', 'projets'): 1, ('projets', 'plus'): 1, ('plus', 'populaires'): 1, ('populaires', 'lindustrie'): 1, ('lindustrie', 'blockchain'): 1, ('blockchain', 'dont'): 1, ('dont', 'lalgorithme'): 1, ('lalgorithme', 'promettait'): 1, ('promettait', 'stabilit'): 1, ('stabilit', 'cryptomonnaie'): 1, ('cryptomonnaie', 'souffre'): 1, ('souffre', 'dune'): 1, ('dune', 'violente'): 1, ('violente', 'hmorragie'): 1, ('hmorragie', 'financire'): 1, ('financire', 'dbcle'): 1, ('dbcle', 'interfre'): 1, ('interfre', 'mm'): 1, ('mm', 'charpegged'): 1, ('charpegged', 'dollar'): 1, ('dollar', 'terras'): 1, ('terras', 'ust'): 1, ('ust', 'coin'): 1, ('coin', 'trading'): 1, ('trading', 'centsillustration'): 1, ('centsillustration', 'alex'): 1, ('alex', 'castroits'): 1, ('castroits', 'crushing'): 1, ('crushing', 'day'): 1, ('day', 'terra'): 1, ('terra', 'project'): 1, ('project', 'week'): 1, ('week', 'ha'): 1, ('ha', 'unforgiving'): 1, ('unforgiving', 'cryptoc'): 1, ('cryptoc', 'charlondres'): 1, ('charlondres', 'afp'): 1, ('afp', 'bitcoin'): 1, ('bitcoin', 'principale'): 1, ('fuyant', 'actif'): 1, ('actif', 'chargold'): 1, ('chargold', 'bullion'): 1, ('bullion', 'american'): 1, ('american', 'precious'): 1, ('precious', 'metals'): 1, ('metals', 'exchange'): 1, ('exchange', 'photograph'): 1, ('photograph', 'mike'): 1, ('mike', 'segarreutersits'): 1, ('segarreutersits', 'also'): 1, ('also', 'rough'): 1, ('rough', 'week'): 1, ('week', 'gold'): 1, ('gold', 'hit'): 1, ('hit', 'lowest'): 1, ('lowest', 'level'): 1, ('level', 'since'): 1, ('since', 'februaryspot'): 1, ('februaryspot', 'gold'): 1, ('gold', 'ha'): 1, ('ha', 'dropped'): 1, ('dropped', 'around'): 1, ('around', 'charshutterstock'): 1, ('charshutterstock', 'certains'): 1, ('certains', 'groupes'): 1, ('groupes', 'cybercriminels'): 1, ('cybercriminels', 'comme'): 1, ('comme', 'groupes'): 1, ('groupes', 'apt'): 1, ('apt', 'groupe'): 1, ('groupe', 'lazarus'): 1, ('lazarus', 'affilis'): 1, ('affilis', 'core'): 1, ('core', 'nord'): 1, ('nord', 'spcialiss'): 1, ('spcialiss', 'cyberattaques'): 1, ('cyberattaques', 'financires'): 1, ('financires', 'car'): 1, ('car', 'cellesci'): 1, ('cellesci', 'charcryptocurrency'): 1, ('charcryptocurrency', 'market'): 1, ('market', 'isnt'): 1, ('isnt', 'pretty'): 1, ('pretty', 'right'): 1, ('right', 'look'): 1, ('look', 'anywhere'): 1, ('anywhere', 'youll'): 1, ('youll', 'see'): 1, ('see', 'red'): 1, ('red', 'bitcoin'): 1, ('bitcoin', 'ether'): 1, ('ether', 'weekonweek'): 1, ('weekonweek', 'hitting'): 1, ('hitting', 'low'): 1, ('low', 'seen'): 1, ('seen', 'since'): 1, ('since', 'altcoins'): 1, ('altcoins', 'like'): 1, ('like', 'solana'): 1, ('solana', 'charposter'): 1, ('charposter', 'participating'): 1, ('participating', 'including'): 1, ('including', 'story'): 1, ('story', 'authorthe'): 1, ('authorthe', 'price'): 1, ('price', 'one'): 1, ('one', 'bitcoin'): 1, ('bitcoin', 'briefly'): 1, ('briefly', 'fell'): 1, ('fell', 'thursday'): 1, ('thursday', 'morning'): 1, ('morning', 'lowest'): 1, ('lowest', 'price'): 1, ('price', 'cryptocurrency'): 1, ('cryptocurrency', 'since'): 1, ('since', 'world'): 1, ('world', 'lead'): 1, ('lead', 'charhear'): 1, ('charhear', 'may'): 1, ('may', 'able'): 1, ('able', 'allocate'): 1, ('allocate', 'k'): 1, ('k', 'retirement'): 1, ('retirement', 'saving'): 1, ('saving', 'bitcoin'): 1, ('bitcoin', 'cryptocurrenciesdue'): 1, ('cryptocurrenciesdue', 'duecase'): 1, ('duecase', 'point'): 1, ('point', 'retirement'): 1, ('retirement', 'juggernaut'): 1, ('juggernaut', 'fidelityfidelity'): 1, ('fidelityfidelity', 'launched'): 1, ('launched', 'char'): 1}\n"
     ]
    }
   ],
   "source": [
    "# Generate the Bitcoin N-grams where N=2\n",
    "bitcoin_token_string_all_news = get_big_token_string(bitcoin_news_all_df)\n",
    "#print(bitcoin_token_string_all_news)\n",
    "bitcoin_tokens_all_news = bitcoin_token_string_all_news.split()\n",
    "bitcoin_bigram_counts = Counter(ngrams(bitcoin_tokens_all_news, n=2))\n",
    "#print(bigram_counts)\n",
    "print(dict(bitcoin_bigram_counts))\n",
    "\n",
    "\n",
    "\n",
    "\n"
   ]
  },
  {
   "cell_type": "code",
   "execution_count": 261,
   "metadata": {},
   "outputs": [
    {
     "name": "stdout",
     "output_type": "stream",
     "text": [
      "{('want', 'pay'): 1, ('pay', 'online'): 1, ('online', 'need'): 1, ('need', 'register'): 1, ('register', 'account'): 1, ('account', 'provide'): 1, ('provide', 'credit'): 1, ('credit', 'card'): 2, ('card', 'information'): 1, ('information', 'dont'): 1, ('dont', 'credit'): 1, ('card', 'pay'): 1, ('pay', 'bank'): 1, ('bank', 'transfer'): 1, ('transfer', 'rise'): 1, ('rise', 'cryptocurrencies'): 1, ('cryptocurrencies', 'charamc'): 1, ('charamc', 'peut'): 1, ('peut', 'remercier'): 1, ('remercier', 'boursicoteurs'): 1, ('boursicoteurs', 'permis'): 1, ('permis', 'voir'): 1, ('voir', 'cours'): 1, ('cours', 'senvoler'): 1, ('senvoler', 'bourse'): 1, ('bourse', 'depuis'): 1, ('depuis', 'plus'): 1, ('plus', 'dun'): 1, ('dun', 'grce'): 1, ('grce', 'phnomne'): 1, ('phnomne', 'gamestop'): 1, ('gamestop', 'wallstreetbets'): 1, ('wallstreetbets', 'reddit'): 1, ('reddit', 'lre'): 1, ('lre', 'meme'): 1, ('meme', 'stock'): 1, ('stock', 'charbored'): 1, ('charbored', 'ape'): 1, ('ape', 'yacht'): 1, ('yacht', 'club'): 1, ('club', 'creator'): 1, ('creator', 'yuga'): 1, ('yuga', 'labs'): 1, ('labs', 'announced'): 1, ('announced', 'otherside'): 1, ('otherside', 'nft'): 1, ('nft', 'collection'): 1, ('collection', 'would'): 1, ('would', 'launch'): 1, ('launch', 'april'): 1, ('april', 'wa'): 1, ('wa', 'predicted'): 1, ('predicted', 'many'): 1, ('many', 'biggest'): 1, ('biggest', 'nft'): 1, ('nft', 'launch'): 1, ('launch', 'ever'): 1, ('ever', 'otherside'): 1, ('otherside', 'upcoming'): 1, ('upcoming', 'bore'): 1, ('bore', 'charmike'): 1, ('charmike', 'novogratz'): 1, ('novogratz', 'lune'): 1, ('lune', 'figure'): 1, ('figure', 'emblmatiques'): 1, ('emblmatiques', 'lunivers'): 1, ('lunivers', 'crypto'): 1, ('crypto', 'ancien'): 1, ('ancien', 'grant'): 1, ('grant', 'dactif'): 1, ('dactif', 'chez'): 1, ('chez', 'goldman'): 1, ('goldman', 'sachs'): 1, ('sachs', 'dsormais'): 1, ('dsormais', 'ceo'): 1, ('ceo', 'galaxy'): 1, ('galaxy', 'digital'): 1, ('digital', 'connu'): 1, ('connu', 'tre'): 1, ('tre', 'avoir'): 1, ('avoir', 'lun'): 1, ('lun', 'plus'): 1, ('plus', 'charmultibillion'): 1, ('charmultibillion', 'dollar'): 1, ('dollar', 'cryptocurrency'): 1, ('cryptocurrency', 'company'): 1, ('company', 'ha'): 1, ('ha', 'apologised'): 1, ('apologised', 'user'): 1, ('user', 'sale'): 1, ('sale', 'metaverse'): 1, ('metaverse', 'land'): 1, ('land', 'sparked'): 1, ('sparked', 'frenzy'): 1, ('frenzy', 'temporarily'): 1, ('temporarily', 'brought'): 1, ('brought', 'ethereum'): 1, ('ethereum', 'cryptocurrencyyuga'): 1, ('cryptocurrencyyuga', 'labs'): 1, ('labs', 'comp'): 1, ('comp', 'charpass'): 1, ('charpass', 'matre'): 1, ('matre', 'lart'): 1, ('lart', 'dadopter'): 1, ('dadopter', 'tous'): 1, ('tous', 'trucs'): 1, ('trucs', 'mode'): 1, ('mode', 'avant'): 1, ('avant', 'abandonner'): 1, ('abandonner', 'quelque'): 1, ('quelque', 'temp'): 1, ('temp', 'plus'): 1, ('plus', 'tard'): 1, ('tard', 'meta'): 1, ('meta', 'fait'): 1, ('fait', 'premier'): 1, ('premier', 'pa'): 1, ('pa', 'lunivers'): 1, ('lunivers', 'merveilleux'): 1, ('merveilleux', 'nft'): 1, ('nft', 'exprimentation'): 1, ('exprimentation', 'va'): 1, ('va', 'db'): 1, ('db', 'charethereum'): 1, ('charethereum', 'preparing'): 1, ('preparing', 'upgrade'): 1, ('upgrade', 'thats'): 1, ('thats', 'described'): 1, ('described', 'single'): 1, ('single', 'important'): 1, ('important', 'event'): 1, ('event', 'crypto'): 1, ('crypto', 'historythe'): 1, ('historythe', 'transition'): 1, ('transition', 'would'): 1, ('would', 'overhaul'): 1, ('overhaul', 'infrastructure'): 1, ('infrastructure', 'world'): 1, ('world', 'secondlargest'): 1, ('secondlargest', 'blockcha'): 1, ('blockcha', 'charmark'): 1, ('charmark', 'zuckerberg'): 1, ('zuckerberg', 'adam'): 1, ('adam', 'mosseri'): 2, ('mosseri', 'pris'): 1, ('pris', 'parole'): 1, ('parole', 'lundi'): 1, ('lundi', 'annoncer'): 1, ('annoncer', 'larrive'): 1, ('larrive', 'nft'): 1, ('nft', 'instagram'): 1, ('instagram', 'pa'): 1, ('pa', 'plus'): 1, ('plus', 'web'): 1, ('web', 'meta'): 1, ('meta', 'nft'): 1, ('nft', 'arrivent'): 1, ('arrivent', 'instagramaffichez'): 1, ('instagramaffichez', 'col'): 1, ('col', 'chareditorial'): 1, ('chareditorial', 'independencewe'): 1, ('independencewe', 'want'): 1, ('want', 'help'): 1, ('help', 'make'): 1, ('make', 'informed'): 1, ('informed', 'decision'): 1, ('decision', 'link'): 1, ('link', 'page'): 1, ('page', 'clearly'): 1, ('clearly', 'marked'): 1, ('marked', 'may'): 1, ('may', 'take'): 1, ('take', 'partner'): 1, ('partner', 'website'): 1, ('website', 'may'): 1, ('may', 'result'): 1, ('result', 'u'): 1, ('u', 'earning'): 1, ('earning', 'referral'): 1, ('referral', 'commission'): 1, ('commission', 'fo'): 1, ('fo', 'charaprs'): 1, ('charaprs', 'twitter'): 1, ('twitter', 'cest'): 1, ('cest', 'instagram'): 1, ('instagram', 'cde'): 1, ('cde', 'folie'): 1, ('folie', 'nft'): 1, ('nft', 'rseau'): 1, ('rseau', 'social'): 2, ('social', 'teste'): 1, ('teste', 'quelques'): 1, ('quelques', 'crateurs'): 1, ('crateurs', 'amricains'): 1, ('amricains', 'diver'): 1, ('diver', 'fonctionnalits'): 1, ('fonctionnalits', 'permettant'): 1, ('permettant', 'dafficher'): 1, ('dafficher', 'partager'): 1, ('partager', 'objets'): 1, ('objets', 'numriques'): 1, ('numriques', 'charpegged'): 1, ('charpegged', 'dollar'): 1, ('dollar', 'terras'): 1, ('terras', 'ust'): 1, ('ust', 'coin'): 1, ('coin', 'trading'): 1, ('trading', 'centsillustration'): 1, ('centsillustration', 'alex'): 1, ('alex', 'castroits'): 1, ('castroits', 'crushing'): 1, ('crushing', 'day'): 1, ('day', 'terra'): 1, ('terra', 'project'): 1, ('project', 'week'): 1, ('week', 'ha'): 1, ('ha', 'unforgiving'): 1, ('unforgiving', 'cryptoc'): 1, ('cryptoc', 'charpatron'): 1, ('charpatron', 'dinstagram'): 1, ('dinstagram', 'adam'): 1, ('mosseri', 'annonc'): 1, ('annonc', 'lundi'): 1, ('lundi', 'nft'): 1, ('nft', 'allaient'): 1, ('allaient', 'pouvoir'): 1, ('pouvoir', 'tre'): 1, ('tre', 'partags'): 1, ('partags', 'rseau'): 1, ('social', 'cette'): 1, ('cette', 'semaine'): 1, ('semaine', 'lheure'): 1, ('lheure', 'seule'): 1, ('seule', 'poigne'): 1, ('poigne', 'crateurs'): 1, ('crateurs', 'collectionne'): 1, ('collectionne', 'charread'): 1, ('charread', 'jack'): 1, ('jack', 'dorsey'): 1, ('dorsey', 'cofounder'): 1, ('cofounder', 'twitter'): 1, ('twitter', 'claim'): 1, ('claim', 'regret'): 1, ('regret', 'role'): 1, ('role', 'creating'): 1, ('creating', 'centralized'): 1, ('centralized', 'internet'): 1, ('internet', 'given'): 1, ('given', 'know'): 1, ('know', 'divisiveness'): 1, ('divisiveness', 'violence'): 1, ('violence', 'misinformation'): 1, ('misinformation', 'social'): 1, ('social', 'chardfinition'): 1, ('chardfinition', 'mtavers'): 1, ('mtavers', 'metaverse'): 1, ('metaverse', 'anglais'): 1, ('anglais', 'varie'): 1, ('varie', 'tout'): 1, ('tout', 'comme'): 1, ('comme', 'prdictions'): 1, ('prdictions', 'quant'): 1, ('quant', 'date'): 1, ('date', 'arrive'): 1, ('arrive', 'relle'): 1, ('relle', 'car'): 1, ('car', 'linstant'): 1, ('linstant', 'mtavers'): 1, ('mtavers', 'sen'): 1, ('sen', 'global'): 1, ('global', 'unifi'): 1, ('unifi', 'quil'): 1, ('quil', 'cens'): 1, ('cens', 'charexcited'): 1, ('charexcited', 'bring'): 1, ('bring', 'transform'): 1, ('transform', 'back'): 1, ('back', 'inperson'): 1, ('inperson', 'july'): 1, ('july', 'virtually'): 1, ('virtually', 'july'): 1, ('july', 'join'): 1, ('join', 'data'): 1, ('data', 'leader'): 1, ('leader', 'insightful'): 1, ('insightful', 'talk'): 1, ('talk', 'exciting'): 1, ('exciting', 'networking'): 1, ('networking', 'opportunity'): 1, ('opportunity', 'register'): 1, ('register', 'todaya'): 1, ('todaya', 'coali'): 1, ('coali', 'charshutterstock'): 1, ('charshutterstock', 'certains'): 1, ('certains', 'groupes'): 1, ('groupes', 'cybercriminels'): 1, ('cybercriminels', 'comme'): 1, ('comme', 'groupes'): 1, ('groupes', 'apt'): 1, ('apt', 'groupe'): 1, ('groupe', 'lazarus'): 1, ('lazarus', 'affilis'): 1, ('affilis', 'core'): 1, ('core', 'nord'): 1, ('nord', 'spcialiss'): 1, ('spcialiss', 'cyberattaques'): 1, ('cyberattaques', 'financires'): 1, ('financires', 'car'): 1, ('car', 'cellesci'): 1, ('cellesci', 'charever'): 1, ('charever', 'wanted'): 1, ('wanted', 'buy'): 1, ('buy', 'nft'): 1, ('nft', 'based'): 1, ('based', 'ethereum'): 1, ('ethereum', 'would'): 1, ('would', 'pay'): 1, ('pay', 'transaction'): 1, ('transaction', 'fee'): 1, ('fee', 'register'): 1, ('register', 'blockchain'): 1, ('blockchain', 'last'): 1, ('last', 'week'): 1, ('week', 'fee'): 1, ('fee', 'skyrocketed'): 1, ('skyrocketed', 'unprecedented'): 1, ('unprecedented', 'levelsso'): 1, ('levelsso', 'might'): 1, ('might', 'ha'): 1, ('ha', 'charmeta'): 1, ('charmeta', 'annonc'): 1, ('annonc', 'aujourdhui'): 1, ('aujourdhui', 'mai'): 1, ('mai', 'larrive'): 1, ('larrive', 'dune'): 1, ('dune', 'fonctionnalit'): 1, ('fonctionnalit', 'permettant'): 1, ('permettant', 'utilisateurs'): 1, ('utilisateurs', 'mettre'): 1, ('mettre', 'valeur'): 1, ('valeur', 'leurs'): 1, ('leurs', 'nft'): 1, ('nft', 'digital'): 1, ('digital', 'collectibles'): 1, ('collectibles', 'dabord'): 1, ('dabord', 'disponible'): 1, ('disponible', 'instagram'): 1, ('instagram', 'sortie'): 1, ('sortie', 'prv'): 1, ('prv', 'charimage'): 1, ('charimage', 'source'): 1, ('source', 'getty'): 1, ('getty', 'imagesthe'): 1, ('imagesthe', 'value'): 1, ('value', 'bitcoin'): 2, ('bitcoin', 'continued'): 1, ('continued', 'fall'): 1, ('fall', 'weekend'): 1, ('weekend', 'dropped'): 1, ('dropped', 'according'): 1, ('according', 'coinbase'): 1, ('coinbase', 'cryptocurrency'): 1, ('cryptocurrency', 'exchangethe'): 1, ('exchangethe', 'world'): 1, ('world', 'largest'): 1, ('largest', 'cryp'): 1, ('cryp', 'chardigital'): 1, ('chardigital', 'transformation'): 1, ('transformation', 'disrupting'): 1, ('disrupting', 'global'): 1, ('global', 'business'): 1, ('business', 'legal'): 1, ('legal', 'industry'): 1, ('industry', 'must'): 1, ('must', 'consider'): 1, ('consider', 'digital'): 1, ('digital', 'technology'): 1, ('technology', 'keep'): 1, ('keep', 'changing'): 1, ('changing', 'tech'): 1, ('tech', 'trend'): 1, ('trend', 'blockchainbased'): 1, ('blockchainbased', 'smart'): 1, ('smart', 'contract'): 1, ('contract', 'one'): 1, ('one', 'example'): 1, ('example', 'charcompany'): 1, ('charcompany', 'law'): 1, ('law', 'firm'): 1, ('firm', 'name'): 1, ('name', 'shown'): 1, ('shown', 'generated'): 1, ('generated', 'automatically'): 1, ('automatically', 'based'): 1, ('based', 'text'): 1, ('text', 'article'): 1, ('article', 'improving'): 1, ('improving', 'feature'): 1, ('feature', 'continue'): 1, ('continue', 'test'): 1, ('test', 'develop'): 1, ('develop', 'beta'): 1, ('beta', 'welcome'): 1, ('welcome', 'feedback'): 1, ('feedback', 'charadvocate'): 1, ('charadvocate', 'believed'): 1, ('believed', 'web'): 1, ('web', 'freedom'): 1, ('freedom', 'democracy'): 1, ('democracy', 'ownership'): 1, ('ownership', 'idealistic'): 1, ('idealistic', 'version'): 1, ('version', 'web'): 1, ('web', 'built'): 1, ('built', 'user'): 1, ('user', 'theoretically'): 1, ('theoretically', 'theyre'): 1, ('theyre', 'wrong'): 1, ('wrong', 'web'): 1, ('web', 'still'): 1, ('still', 'development'): 1, ('development', 'charknow'): 1, ('charknow', 'known'): 1, ('known', 'use'): 1, ('use', 'blockchain'): 1, ('blockchain', 'technology'): 1, ('technology', 'cryptocurrencyof'): 1, ('cryptocurrencyof', 'course'): 1, ('course', 'isnt'): 1, ('isnt', 'though'): 1, ('though', 'weve'): 1, ('weve', 'seen'): 1, ('seen', 'nfts'): 1, ('nfts', 'nonfungible'): 2, ('nonfungible', 'token'): 2, ('token', 'part'): 1, ('part', 'ethereum'): 1, ('ethereum', 'chardespite'): 1, ('chardespite', 'fury'): 1, ('fury', 'seems'): 1, ('seems', 'exist'): 1, ('exist', 'around'): 1, ('around', 'nfts'): 1, ('token', 'cryptographic'): 1, ('cryptographic', 'asset'): 1, ('asset', 'represent'): 1, ('represent', 'something'): 1, ('something', 'unique'): 1, ('unique', 'market'): 1, ('market', 'ha'): 1, ('ha', 'slowed'): 1, ('slowed', 'opensea'): 1, ('opensea', 'one'): 1, ('one', 'charweek'): 1, ('charweek', 'fbi'): 1, ('fbi', 'released'): 1, ('released', 'statement'): 1, ('statement', 'assigning'): 1, ('assigning', 'blame'): 1, ('blame', 'recent'): 1, ('recent', 'ronin'): 1, ('ronin', 'bridge'): 1, ('bridge', 'hack'): 1, ('hack', 'largest'): 1, ('largest', 'known'): 1, ('known', 'instance'): 1, ('instance', 'cryptocurrency'): 1, ('cryptocurrency', 'hacking'): 1, ('hacking', 'infamous'): 1, ('infamous', 'north'): 1, ('north', 'korean'): 1, ('korean', 'associated'): 1, ('associated', 'hacking'): 1, ('hacking', 'organizat'): 1, ('organizat', 'charcryptocurrency'): 1, ('charcryptocurrency', 'world'): 1, ('world', 'ha'): 1, ('ha', 'rough'): 1, ('rough', 'may'): 1, ('may', 'farsince'): 1, ('farsince', 'start'): 1, ('start', 'month'): 1, ('month', 'cryptocurrency'): 1, ('cryptocurrency', 'ha'): 1, ('ha', 'lost'): 1, ('lost', 'billion'): 1, ('billion', 'value'): 1, ('bitcoin', 'dropped'): 1, ('dropped', 'price'): 1, ('price', 'havent'): 1, ('havent', 'seen'): 1, ('seen', 'since'): 1, ('since', 'briefl'): 1, ('briefl', 'charcontagion'): 1, ('charcontagion', 'spreading'): 1, ('spreading', 'stock'): 1, ('stock', 'market'): 1, ('market', 'investor'): 1, ('investor', 'see'): 1, ('see', 'one'): 1, ('one', 'thing'): 1, ('thing', 'worry'): 1, ('worry', 'massive'): 1, ('massive', 'selloff'): 1, ('selloff', 'ha'): 1, ('ha', 'spread'): 1, ('spread', 'like'): 1, ('like', 'wildfire'): 1, ('wildfire', 'world'): 1, ('world', 'cryptocurrenciesphoto'): 1, ('cryptocurrenciesphoto', 'reutersdado'): 1, ('reutersdado', 'ruvicfil'): 1, ('ruvicfil', 'charposter'): 1, ('charposter', 'participating'): 1, ('participating', 'including'): 1, ('including', 'story'): 1, ('story', 'authorthe'): 1, ('authorthe', 'price'): 1, ('price', 'one'): 1, ('one', 'bitcoin'): 1, ('bitcoin', 'briefly'): 1, ('briefly', 'fell'): 1, ('fell', 'thursday'): 1, ('thursday', 'morning'): 1, ('morning', 'lowest'): 1, ('lowest', 'price'): 1, ('price', 'cryptocurrency'): 1, ('cryptocurrency', 'since'): 1, ('since', 'world'): 1, ('world', 'lead'): 1, ('lead', 'charcryptocurrency'): 1, ('charcryptocurrency', 'industry'): 1, ('industry', 'isnt'): 1, ('isnt', 'buying'): 1, ('buying', 'selling'): 1, ('selling', 'coin'): 1, ('coin', 'token'): 1, ('token', 'myriad'): 1, ('myriad', 'thing'): 1, ('thing', 'crypto'): 1, ('crypto', 'thousand'): 1, ('thousand', 'crypto'): 1, ('crypto', 'enthusiast'): 1, ('enthusiast', 'want'): 1, ('want', 'take'): 1, ('take', 'passion'): 1, ('passion', 'ste'): 1, ('ste', 'char'): 1}\n"
     ]
    }
   ],
   "source": [
    "# Generate the Ethereum N-grams where N=2\n",
    "ethereum_token_string_all_news = get_big_token_string(ethereum_news_all_df)\n",
    "#print(ethereum_token_string_all_news)\n",
    "ethereum_tokens_all_news = ethereum_token_string_all_news.split()\n",
    "ethereum_bigram_counts = Counter(ngrams(ethereum_tokens_all_news, n=2))\n",
    "print(dict(ethereum_bigram_counts))"
   ]
  },
  {
   "cell_type": "code",
   "execution_count": 262,
   "metadata": {},
   "outputs": [],
   "source": [
    "# Function token_count generates the top 10 words for a given coin\n",
    "def token_count(tokens, N=3):\n",
    "    \"\"\"Returns the top N tokens from the frequency count\"\"\"\n",
    "    return Counter(tokens).most_common(N)"
   ]
  },
  {
   "cell_type": "code",
   "execution_count": 267,
   "metadata": {},
   "outputs": [
    {
     "name": "stdout",
     "output_type": "stream",
     "text": [
      "[(' ', 710), ('e', 546), ('r', 440), ('a', 380), ('i', 377), ('t', 355), ('n', 349), ('o', 294), ('c', 293), ('s', 265)]\n"
     ]
    }
   ],
   "source": [
    "# Use token_count to get the top 10 words for Bitcoin\n",
    "bitcoin_top_words = token_count(bitcoin_tokens_all_news,10)\n",
    "print(bitcoin_top_words)"
   ]
  },
  {
   "cell_type": "code",
   "execution_count": 264,
   "metadata": {},
   "outputs": [
    {
     "name": "stdout",
     "output_type": "stream",
     "text": [
      "[('nft', 9), ('ha', 7), ('cryptocurrency', 5), ('world', 5), ('plus', 4), ('crypto', 4), ('web', 4), ('one', 4), ('want', 3), ('pay', 3)]\n"
     ]
    }
   ],
   "source": [
    "# Use token_count to get the top 10 words for Ethereum\n",
    "ethereum_top_words = token_count(ethereum_tokens_all_news,10)\n",
    "print(ethereum_top_words)"
   ]
  },
  {
   "cell_type": "markdown",
   "metadata": {},
   "source": [
    "---"
   ]
  },
  {
   "cell_type": "markdown",
   "metadata": {},
   "source": [
    "### Word Clouds\n",
    "\n",
    "In this section, you will generate word clouds for each coin to summarize the news for each coin"
   ]
  },
  {
   "cell_type": "code",
   "execution_count": 21,
   "metadata": {},
   "outputs": [],
   "source": []
  },
  {
   "cell_type": "code",
   "execution_count": 269,
   "metadata": {},
   "outputs": [
    {
     "data": {
      "text/plain": [
       "<matplotlib.image.AxesImage at 0x7f93d9d722d0>"
      ]
     },
     "execution_count": 269,
     "metadata": {},
     "output_type": "execute_result"
    },
    {
     "data": {
      "image/png": "[encoded data removed]",
      "text/plain": [
       "<Figure size 432x288 with 1 Axes>"
      ]
     },
     "metadata": {
      "needs_background": "light"
     },
     "output_type": "display_data"
    }
   ],
   "source": [
    "# Generate the Bitcoin word cloud\n",
    "wc_bitcoin = WordCloud(width=1800, height=1000, max_words=50).generate(bitcoin_token_string_all_news)\n",
    "plt.imshow(wc_bitcoin)\n",
    "\n"
   ]
  },
  {
   "cell_type": "code",
   "execution_count": 270,
   "metadata": {},
   "outputs": [
    {
     "data": {
      "text/plain": [
       "<matplotlib.image.AxesImage at 0x7f93dee175d0>"
      ]
     },
     "execution_count": 270,
     "metadata": {},
     "output_type": "execute_result"
    },
    {
     "data": {
      "image/png": "[encoded data removed]",
      "text/plain": [
       "<Figure size 432x288 with 1 Axes>"
      ]
     },
     "metadata": {
      "needs_background": "light"
     },
     "output_type": "display_data"
    }
   ],
   "source": [
    "# Generate the Ethereum word cloud\n",
    "wc_ethereum = WordCloud(width=1800, height=1000, max_words=50).generate(ethereum_token_string_all_news)\n",
    "plt.imshow(wc_ethereum)"
   ]
  },
  {
   "cell_type": "markdown",
   "metadata": {},
   "source": [
    "---\n",
    "## 3. Named Entity Recognition\n",
    "\n",
    "In this section, you will build a named entity recognition model for both Bitcoin and Ethereum, then visualize the tags using SpaCy."
   ]
  },
  {
   "cell_type": "code",
   "execution_count": 24,
   "metadata": {},
   "outputs": [],
   "source": []
  },
  {
   "cell_type": "code",
   "execution_count": 25,
   "metadata": {},
   "outputs": [],
   "source": [
    "# Download the language model for SpaCy\n",
    "# !python -m spacy download en_core_web_sm"
   ]
  },
  {
   "cell_type": "code",
   "execution_count": 26,
   "metadata": {},
   "outputs": [],
   "source": [
    "# Load the spaCy model\n",
    "nlp = spacy.load('en_core_web_sm')"
   ]
  },
  {
   "cell_type": "markdown",
   "metadata": {},
   "source": [
    "---\n",
    "### Bitcoin NER"
   ]
  },
  {
   "cell_type": "code",
   "execution_count": 27,
   "metadata": {},
   "outputs": [],
   "source": [
    "# Concatenate all of the Bitcoin text together\n",
    "# YOUR CODE HERE!"
   ]
  },
  {
   "cell_type": "code",
   "execution_count": 28,
   "metadata": {},
   "outputs": [],
   "source": [
    "# Run the NER processor on all of the text\n",
    "# YOUR CODE HERE!\n",
    "\n",
    "# Add a title to the document\n",
    "# YOUR CODE HERE!"
   ]
  },
  {
   "cell_type": "code",
   "execution_count": 29,
   "metadata": {},
   "outputs": [],
   "source": [
    "# Render the visualization\n",
    "# YOUR CODE HERE!"
   ]
  },
  {
   "cell_type": "code",
   "execution_count": 30,
   "metadata": {},
   "outputs": [],
   "source": [
    "# List all Entities\n",
    "# YOUR CODE HERE!"
   ]
  },
  {
   "cell_type": "markdown",
   "metadata": {},
   "source": [
    "---"
   ]
  },
  {
   "cell_type": "markdown",
   "metadata": {},
   "source": [
    "### Ethereum NER"
   ]
  },
  {
   "cell_type": "code",
   "execution_count": 31,
   "metadata": {},
   "outputs": [],
   "source": [
    "# Concatenate all of the Ethereum text together\n",
    "# YOUR CODE HERE!"
   ]
  },
  {
   "cell_type": "code",
   "execution_count": 32,
   "metadata": {},
   "outputs": [],
   "source": [
    "# Run the NER processor on all of the text\n",
    "# YOUR CODE HERE!\n",
    "\n",
    "# Add a title to the document\n",
    "# YOUR CODE HERE!"
   ]
  },
  {
   "cell_type": "code",
   "execution_count": 33,
   "metadata": {},
   "outputs": [],
   "source": [
    "# Render the visualization\n",
    "# YOUR CODE HERE!"
   ]
  },
  {
   "cell_type": "code",
   "execution_count": 34,
   "metadata": {},
   "outputs": [],
   "source": [
    "# List all Entities\n",
    "# YOUR CODE HERE!"
   ]
  },
  {
   "cell_type": "markdown",
   "metadata": {},
   "source": [
    "---"
   ]
  }
 ],
 "metadata": {
  "file_extension": ".py",
  "kernelspec": {
   "display_name": "Python 3 (ipykernel)",
   "language": "python",
   "name": "python3"
  },
  "language_info": {
   "codemirror_mode": {
    "name": "ipython",
    "version": 3
   },
   "file_extension": ".py",
   "mimetype": "text/x-python",
   "name": "python",
   "nbconvert_exporter": "python",
   "pygments_lexer": "ipython3",
   "version": "3.7.7"
  },
  "mimetype": "text/x-python",
  "name": "python",
  "npconvert_exporter": "python",
  "pygments_lexer": "ipython3",
  "version": 3
 },
 "nbformat": 4,
 "nbformat_minor": 4
}
